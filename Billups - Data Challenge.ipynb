{
 "cells": [
  {
   "cell_type": "markdown",
   "id": "favorite-italy",
   "metadata": {},
   "source": [
    "The Mission \n",
    "(should you choose to accept)\n",
    "We'd like you to analyze the library data located here and help us \n",
    "1.\tbuild a model to predict the likelihood of a late return of any book at checkout time? \n",
    "2.\tAre there any factors you can find that are connected with late returns?  \n",
    "3.\tWhat would you recommend the library do to mitigate the risks you find? \n",
    "4.\tHow would you present your findings to them to get buy-in? \n"
   ]
  },
  {
   "cell_type": "code",
   "execution_count": 3,
   "id": "national-exemption",
   "metadata": {},
   "outputs": [],
   "source": [
    "# Importing libraries\n",
    "import pandas as pd\n",
    "import numpy as np"
   ]
  },
  {
   "cell_type": "code",
   "execution_count": 4,
   "id": "pursuant-tablet",
   "metadata": {},
   "outputs": [],
   "source": [
    "pd.set_option('display.max_columns', None)"
   ]
  },
  {
   "cell_type": "code",
   "execution_count": 5,
   "id": "floppy-toyota",
   "metadata": {},
   "outputs": [],
   "source": [
    "path = \"/Data Challenge/\""
   ]
  },
  {
   "cell_type": "code",
   "execution_count": 6,
   "id": "australian-manitoba",
   "metadata": {},
   "outputs": [],
   "source": [
    "# Downloading datasets\n",
    "books = pd.read_csv(path+\"books.csv\")\n",
    "checkouts = pd.read_csv(path+\"checkouts.csv\")\n",
    "customers = pd.read_csv(path+\"customers.csv\")\n",
    "libraries = pd.read_csv(path+\"libraries.csv\")"
   ]
  },
  {
   "cell_type": "markdown",
   "id": "raised-andrews",
   "metadata": {},
   "source": [
    "# Exploring the data"
   ]
  },
  {
   "cell_type": "code",
   "execution_count": 7,
   "id": "metric-elephant",
   "metadata": {},
   "outputs": [
    {
     "data": {
      "text/html": [
       "<div>\n",
       "<style scoped>\n",
       "    .dataframe tbody tr th:only-of-type {\n",
       "        vertical-align: middle;\n",
       "    }\n",
       "\n",
       "    .dataframe tbody tr th {\n",
       "        vertical-align: top;\n",
       "    }\n",
       "\n",
       "    .dataframe thead th {\n",
       "        text-align: right;\n",
       "    }\n",
       "</style>\n",
       "<table border=\"1\" class=\"dataframe\">\n",
       "  <thead>\n",
       "    <tr style=\"text-align: right;\">\n",
       "      <th></th>\n",
       "      <th>id</th>\n",
       "      <th>title</th>\n",
       "      <th>authors</th>\n",
       "      <th>publisher</th>\n",
       "      <th>publishedDate</th>\n",
       "      <th>categories</th>\n",
       "      <th>price</th>\n",
       "      <th>pages</th>\n",
       "    </tr>\n",
       "  </thead>\n",
       "  <tbody>\n",
       "    <tr>\n",
       "      <th>0</th>\n",
       "      <td>hVFwAAAAQBAJ</td>\n",
       "      <td>Ogilvy on Advertising</td>\n",
       "      <td>['David Ogilvy']</td>\n",
       "      <td>Vintage</td>\n",
       "      <td>2013-09-11</td>\n",
       "      <td>['Social Science']</td>\n",
       "      <td>72.99</td>\n",
       "      <td>320</td>\n",
       "    </tr>\n",
       "    <tr>\n",
       "      <th>1</th>\n",
       "      <td>bRY9AAAAYAAJ</td>\n",
       "      <td>Foreign Publications for Advertising American ...</td>\n",
       "      <td>['United States. Bureau of Foreign and Domesti...</td>\n",
       "      <td>NaN</td>\n",
       "      <td>1913</td>\n",
       "      <td>['Advertising']</td>\n",
       "      <td>469.99</td>\n",
       "      <td>654</td>\n",
       "    </tr>\n",
       "    <tr>\n",
       "      <th>2</th>\n",
       "      <td>ZapAAAAAIAAJ</td>\n",
       "      <td>Advertising and the Public Interest</td>\n",
       "      <td>['John A. Howard', 'James Hulbert']</td>\n",
       "      <td>NaN</td>\n",
       "      <td>1973</td>\n",
       "      <td>['Advertising']</td>\n",
       "      <td>372.0</td>\n",
       "      <td>784</td>\n",
       "    </tr>\n",
       "    <tr>\n",
       "      <th>3</th>\n",
       "      <td>A-HthMfF5moC</td>\n",
       "      <td>Profitable Advertising</td>\n",
       "      <td>NaN</td>\n",
       "      <td>NaN</td>\n",
       "      <td>1894</td>\n",
       "      <td>['Advertising']</td>\n",
       "      <td>240.99USD</td>\n",
       "      <td>559</td>\n",
       "    </tr>\n",
       "    <tr>\n",
       "      <th>4</th>\n",
       "      <td>4Z9JAAAAMAAJ</td>\n",
       "      <td>Report of the Federal Trade Commission on Dist...</td>\n",
       "      <td>['United States. Federal Trade Commission']</td>\n",
       "      <td>NaN</td>\n",
       "      <td>1944</td>\n",
       "      <td>['Government publications']</td>\n",
       "      <td>539.0</td>\n",
       "      <td>757</td>\n",
       "    </tr>\n",
       "  </tbody>\n",
       "</table>\n",
       "</div>"
      ],
      "text/plain": [
       "             id                                              title  \\\n",
       "0  hVFwAAAAQBAJ                              Ogilvy on Advertising   \n",
       "1  bRY9AAAAYAAJ  Foreign Publications for Advertising American ...   \n",
       "2  ZapAAAAAIAAJ                Advertising and the Public Interest   \n",
       "3  A-HthMfF5moC                             Profitable Advertising   \n",
       "4  4Z9JAAAAMAAJ  Report of the Federal Trade Commission on Dist...   \n",
       "\n",
       "                                             authors publisher publishedDate  \\\n",
       "0                                   ['David Ogilvy']   Vintage    2013-09-11   \n",
       "1  ['United States. Bureau of Foreign and Domesti...       NaN          1913   \n",
       "2                ['John A. Howard', 'James Hulbert']       NaN          1973   \n",
       "3                                                NaN       NaN          1894   \n",
       "4        ['United States. Federal Trade Commission']       NaN          1944   \n",
       "\n",
       "                    categories      price pages  \n",
       "0           ['Social Science']      72.99   320  \n",
       "1              ['Advertising']     469.99   654  \n",
       "2              ['Advertising']      372.0   784  \n",
       "3              ['Advertising']  240.99USD   559  \n",
       "4  ['Government publications']      539.0   757  "
      ]
     },
     "execution_count": 7,
     "metadata": {},
     "output_type": "execute_result"
    }
   ],
   "source": [
    "# Checking books data\n",
    "books.head()"
   ]
  },
  {
   "cell_type": "code",
   "execution_count": 8,
   "id": "super-format",
   "metadata": {},
   "outputs": [
    {
     "name": "stdout",
     "output_type": "stream",
     "text": [
      "<class 'pandas.core.frame.DataFrame'>\n",
      "RangeIndex: 240 entries, 0 to 239\n",
      "Data columns (total 8 columns):\n",
      " #   Column         Non-Null Count  Dtype \n",
      "---  ------         --------------  ----- \n",
      " 0   id             240 non-null    object\n",
      " 1   title          240 non-null    object\n",
      " 2   authors        173 non-null    object\n",
      " 3   publisher      94 non-null     object\n",
      " 4   publishedDate  238 non-null    object\n",
      " 5   categories     201 non-null    object\n",
      " 6   price          238 non-null    object\n",
      " 7   pages          240 non-null    object\n",
      "dtypes: object(8)\n",
      "memory usage: 15.1+ KB\n"
     ]
    }
   ],
   "source": [
    "books.info()"
   ]
  },
  {
   "cell_type": "code",
   "execution_count": 9,
   "id": "prescription-hamburg",
   "metadata": {},
   "outputs": [
    {
     "data": {
      "text/plain": [
       "Popular Mechanics                         12\n",
       "Medicine                                   3\n",
       "Advertising Management                     3\n",
       "Water Resources Paper                      2\n",
       "Water Resources Data                       2\n",
       "                                          ..\n",
       "Natural Resources of the United States     1\n",
       "A Manual of the practice of medicine       1\n",
       "Planning Our Resources                     1\n",
       "Anachronist                                1\n",
       "Journal of Sociologic Medicine             1\n",
       "Name: title, Length: 220, dtype: int64"
      ]
     },
     "execution_count": 9,
     "metadata": {},
     "output_type": "execute_result"
    }
   ],
   "source": [
    "books.title.value_counts()"
   ]
  },
  {
   "cell_type": "code",
   "execution_count": 10,
   "id": "associate-awareness",
   "metadata": {},
   "outputs": [
    {
     "data": {
      "text/plain": [
       "['Business & Economics']        26\n",
       "['Advertising']                 16\n",
       "['Medicine']                    15\n",
       "['Science']                      9\n",
       "['Technology & Engineering']     7\n",
       "                                ..\n",
       "['Industrial arts']              1\n",
       "['Electric railroads']           1\n",
       "['Utah']                         1\n",
       "['Medicine, Naval']              1\n",
       "['Juvenile Nonfiction']          1\n",
       "Name: categories, Length: 87, dtype: int64"
      ]
     },
     "execution_count": 10,
     "metadata": {},
     "output_type": "execute_result"
    }
   ],
   "source": [
    "books.categories.value_counts()"
   ]
  },
  {
   "cell_type": "code",
   "execution_count": 13,
   "id": "aware-roommate",
   "metadata": {},
   "outputs": [
    {
     "data": {
      "text/html": [
       "<div>\n",
       "<style scoped>\n",
       "    .dataframe tbody tr th:only-of-type {\n",
       "        vertical-align: middle;\n",
       "    }\n",
       "\n",
       "    .dataframe tbody tr th {\n",
       "        vertical-align: top;\n",
       "    }\n",
       "\n",
       "    .dataframe thead th {\n",
       "        text-align: right;\n",
       "    }\n",
       "</style>\n",
       "<table border=\"1\" class=\"dataframe\">\n",
       "  <thead>\n",
       "    <tr style=\"text-align: right;\">\n",
       "      <th></th>\n",
       "      <th>id</th>\n",
       "      <th>patron_id</th>\n",
       "      <th>library_id</th>\n",
       "      <th>date_checkout</th>\n",
       "      <th>date_returned</th>\n",
       "    </tr>\n",
       "  </thead>\n",
       "  <tbody>\n",
       "    <tr>\n",
       "      <th>0</th>\n",
       "      <td>-xFj0vTLbRIC</td>\n",
       "      <td>b071c9c68228a2b1d00e6f53677e16da</td>\n",
       "      <td>225-222@5xc-jtz-hkf</td>\n",
       "      <td>2019-01-28</td>\n",
       "      <td>2018-11-13</td>\n",
       "    </tr>\n",
       "    <tr>\n",
       "      <th>1</th>\n",
       "      <td>HUX-y4oXl04C</td>\n",
       "      <td>8d3f63e1deed89d7ba1bf6a4eb101373</td>\n",
       "      <td>223-222@5xc-jxr-tgk</td>\n",
       "      <td>2018-05-29</td>\n",
       "      <td>2018-06-12</td>\n",
       "    </tr>\n",
       "    <tr>\n",
       "      <th>2</th>\n",
       "      <td>TQpFnkku2poC</td>\n",
       "      <td>4ae202f8de762591734705e0079d76df</td>\n",
       "      <td>228-222@5xc-jtz-hwk</td>\n",
       "      <td>2018-11-23</td>\n",
       "      <td>2019-01-24</td>\n",
       "    </tr>\n",
       "    <tr>\n",
       "      <th>3</th>\n",
       "      <td>OQ6sDwAAQBAJ</td>\n",
       "      <td>f9372de3c8ea501601aa3fb59ec0f524</td>\n",
       "      <td>23v-222@5xc-jv7-v4v</td>\n",
       "      <td>2018-01-15</td>\n",
       "      <td>2018-04-25</td>\n",
       "    </tr>\n",
       "    <tr>\n",
       "      <th>4</th>\n",
       "      <td>7T9-BAAAQBAJ</td>\n",
       "      <td>2cf3cc3b9e9f6c608767da8d350f77c9</td>\n",
       "      <td>225-222@5xc-jtz-hkf</td>\n",
       "      <td>2018-12-31</td>\n",
       "      <td>1804-01-23</td>\n",
       "    </tr>\n",
       "  </tbody>\n",
       "</table>\n",
       "</div>"
      ],
      "text/plain": [
       "             id                         patron_id           library_id  \\\n",
       "0  -xFj0vTLbRIC  b071c9c68228a2b1d00e6f53677e16da  225-222@5xc-jtz-hkf   \n",
       "1  HUX-y4oXl04C  8d3f63e1deed89d7ba1bf6a4eb101373  223-222@5xc-jxr-tgk   \n",
       "2  TQpFnkku2poC  4ae202f8de762591734705e0079d76df  228-222@5xc-jtz-hwk   \n",
       "3  OQ6sDwAAQBAJ  f9372de3c8ea501601aa3fb59ec0f524  23v-222@5xc-jv7-v4v   \n",
       "4  7T9-BAAAQBAJ  2cf3cc3b9e9f6c608767da8d350f77c9  225-222@5xc-jtz-hkf   \n",
       "\n",
       "  date_checkout date_returned  \n",
       "0    2019-01-28    2018-11-13  \n",
       "1    2018-05-29    2018-06-12  \n",
       "2    2018-11-23    2019-01-24  \n",
       "3    2018-01-15    2018-04-25  \n",
       "4    2018-12-31    1804-01-23  "
      ]
     },
     "execution_count": 13,
     "metadata": {},
     "output_type": "execute_result"
    }
   ],
   "source": [
    "# Chceking checkouts data\n",
    "checkouts.head()"
   ]
  },
  {
   "cell_type": "code",
   "execution_count": 14,
   "id": "broke-competition",
   "metadata": {},
   "outputs": [
    {
     "name": "stdout",
     "output_type": "stream",
     "text": [
      "<class 'pandas.core.frame.DataFrame'>\n",
      "RangeIndex: 2000 entries, 0 to 1999\n",
      "Data columns (total 5 columns):\n",
      " #   Column         Non-Null Count  Dtype \n",
      "---  ------         --------------  ----- \n",
      " 0   id             2000 non-null   object\n",
      " 1   patron_id      2000 non-null   object\n",
      " 2   library_id     2000 non-null   object\n",
      " 3   date_checkout  1935 non-null   object\n",
      " 4   date_returned  1942 non-null   object\n",
      "dtypes: object(5)\n",
      "memory usage: 78.2+ KB\n"
     ]
    }
   ],
   "source": [
    "checkouts.info()"
   ]
  },
  {
   "cell_type": "markdown",
   "id": "adjusted-duncan",
   "metadata": {},
   "source": [
    " "
   ]
  },
  {
   "cell_type": "markdown",
   "id": "primary-essence",
   "metadata": {},
   "source": [
    "Apparently the id in books and checkouts are identical and refer to the books id. Therefore, we can join the two tables on id."
   ]
  },
  {
   "cell_type": "code",
   "execution_count": 237,
   "id": "strong-viking",
   "metadata": {},
   "outputs": [
    {
     "data": {
      "text/plain": [
       "True"
      ]
     },
     "execution_count": 237,
     "metadata": {},
     "output_type": "execute_result"
    }
   ],
   "source": [
    "list(books.id.sort_values()) == list(np.sort(checkouts.id.unique()))"
   ]
  },
  {
   "cell_type": "code",
   "execution_count": 11,
   "id": "prime-cosmetic",
   "metadata": {},
   "outputs": [
    {
     "data": {
      "text/html": [
       "<div>\n",
       "<style scoped>\n",
       "    .dataframe tbody tr th:only-of-type {\n",
       "        vertical-align: middle;\n",
       "    }\n",
       "\n",
       "    .dataframe tbody tr th {\n",
       "        vertical-align: top;\n",
       "    }\n",
       "\n",
       "    .dataframe thead th {\n",
       "        text-align: right;\n",
       "    }\n",
       "</style>\n",
       "<table border=\"1\" class=\"dataframe\">\n",
       "  <thead>\n",
       "    <tr style=\"text-align: right;\">\n",
       "      <th></th>\n",
       "      <th>id</th>\n",
       "      <th>name</th>\n",
       "      <th>street_address</th>\n",
       "      <th>city</th>\n",
       "      <th>region</th>\n",
       "      <th>postal_code</th>\n",
       "    </tr>\n",
       "  </thead>\n",
       "  <tbody>\n",
       "    <tr>\n",
       "      <th>0</th>\n",
       "      <td>226-222@5xc-kc4-fpv</td>\n",
       "      <td>Multnomah   County   Library Capitol Hill</td>\n",
       "      <td>10723 SW capitol Hwy</td>\n",
       "      <td>Portland</td>\n",
       "      <td>OR</td>\n",
       "      <td>97219</td>\n",
       "    </tr>\n",
       "    <tr>\n",
       "      <th>1</th>\n",
       "      <td>23v-222@5xc-jv7-v4v</td>\n",
       "      <td>Multnomah County Library Northwest</td>\n",
       "      <td>2300 NW Thurman  St</td>\n",
       "      <td>NaN</td>\n",
       "      <td>or</td>\n",
       "      <td>NaN</td>\n",
       "    </tr>\n",
       "    <tr>\n",
       "      <th>2</th>\n",
       "      <td>222-222@5xc-jvf-skf</td>\n",
       "      <td>Multnomah County Library St Johns</td>\n",
       "      <td>7510 N Charleston Ave</td>\n",
       "      <td>portland</td>\n",
       "      <td>or</td>\n",
       "      <td>97203</td>\n",
       "    </tr>\n",
       "    <tr>\n",
       "      <th>3</th>\n",
       "      <td>227-222@5xc-jww-btv</td>\n",
       "      <td>Multnomah   County Library Hillsdale</td>\n",
       "      <td>1525 SW Sunset blvd</td>\n",
       "      <td>Portland</td>\n",
       "      <td>or</td>\n",
       "      <td>-97239</td>\n",
       "    </tr>\n",
       "    <tr>\n",
       "      <th>4</th>\n",
       "      <td>22d-222@5xc-kcy-8sq</td>\n",
       "      <td>Multnomah County  Library   Sellwood  Moreland</td>\n",
       "      <td>7860 SE 13th AVE</td>\n",
       "      <td>Portland</td>\n",
       "      <td>OR</td>\n",
       "      <td>97202</td>\n",
       "    </tr>\n",
       "  </tbody>\n",
       "</table>\n",
       "</div>"
      ],
      "text/plain": [
       "                    id                                             name  \\\n",
       "0  226-222@5xc-kc4-fpv        Multnomah   County   Library Capitol Hill   \n",
       "1  23v-222@5xc-jv7-v4v               Multnomah County Library Northwest   \n",
       "2  222-222@5xc-jvf-skf                Multnomah County Library St Johns   \n",
       "3  227-222@5xc-jww-btv            Multnomah   County Library Hillsdale    \n",
       "4  22d-222@5xc-kcy-8sq   Multnomah County  Library   Sellwood  Moreland   \n",
       "\n",
       "          street_address       city region postal_code  \n",
       "0   10723 SW capitol Hwy  Portland     OR        97219  \n",
       "1    2300 NW Thurman  St        NaN     or         NaN  \n",
       "2  7510 N Charleston Ave   portland     or       97203  \n",
       "3    1525 SW Sunset blvd  Portland      or      -97239  \n",
       "4       7860 SE 13th AVE   Portland     OR       97202  "
      ]
     },
     "execution_count": 11,
     "metadata": {},
     "output_type": "execute_result"
    }
   ],
   "source": [
    "# Checking libraries data\n",
    "libraries.head()"
   ]
  },
  {
   "cell_type": "code",
   "execution_count": 12,
   "id": "narrow-explorer",
   "metadata": {},
   "outputs": [
    {
     "name": "stdout",
     "output_type": "stream",
     "text": [
      "<class 'pandas.core.frame.DataFrame'>\n",
      "RangeIndex: 18 entries, 0 to 17\n",
      "Data columns (total 6 columns):\n",
      " #   Column          Non-Null Count  Dtype \n",
      "---  ------          --------------  ----- \n",
      " 0   id              18 non-null     object\n",
      " 1   name            18 non-null     object\n",
      " 2   street_address  18 non-null     object\n",
      " 3   city            14 non-null     object\n",
      " 4   region          16 non-null     object\n",
      " 5   postal_code     15 non-null     object\n",
      "dtypes: object(6)\n",
      "memory usage: 992.0+ bytes\n"
     ]
    }
   ],
   "source": [
    "libraries.info()"
   ]
  },
  {
   "cell_type": "code",
   "execution_count": 25,
   "id": "fiscal-disaster",
   "metadata": {},
   "outputs": [
    {
     "data": {
      "text/html": [
       "<div>\n",
       "<style scoped>\n",
       "    .dataframe tbody tr th:only-of-type {\n",
       "        vertical-align: middle;\n",
       "    }\n",
       "\n",
       "    .dataframe tbody tr th {\n",
       "        vertical-align: top;\n",
       "    }\n",
       "\n",
       "    .dataframe thead th {\n",
       "        text-align: right;\n",
       "    }\n",
       "</style>\n",
       "<table border=\"1\" class=\"dataframe\">\n",
       "  <thead>\n",
       "    <tr style=\"text-align: right;\">\n",
       "      <th></th>\n",
       "      <th>id</th>\n",
       "      <th>name</th>\n",
       "      <th>street_address</th>\n",
       "      <th>city</th>\n",
       "      <th>state</th>\n",
       "      <th>zipcode</th>\n",
       "      <th>birth_date</th>\n",
       "      <th>gender</th>\n",
       "      <th>education</th>\n",
       "      <th>occupation</th>\n",
       "    </tr>\n",
       "  </thead>\n",
       "  <tbody>\n",
       "    <tr>\n",
       "      <th>0</th>\n",
       "      <td>df83ec2d0d409395c0d8c2690cfa8b67</td>\n",
       "      <td>Cynthia Barnfield</td>\n",
       "      <td>44 NE Meikle Pl</td>\n",
       "      <td>Portland</td>\n",
       "      <td>Oregon</td>\n",
       "      <td>97213.0</td>\n",
       "      <td>2009-09-10</td>\n",
       "      <td>female</td>\n",
       "      <td>High School</td>\n",
       "      <td>NaN</td>\n",
       "    </tr>\n",
       "    <tr>\n",
       "      <th>1</th>\n",
       "      <td>6aec7ab2ea0d67161dac39e5dcabd857</td>\n",
       "      <td>Elizabeth Smith</td>\n",
       "      <td>7511 SE Harrison St</td>\n",
       "      <td>Portland</td>\n",
       "      <td>Oregon</td>\n",
       "      <td>97215.0</td>\n",
       "      <td>1956-12-15</td>\n",
       "      <td>female</td>\n",
       "      <td>College</td>\n",
       "      <td>Blue Collar</td>\n",
       "    </tr>\n",
       "    <tr>\n",
       "      <th>2</th>\n",
       "      <td>0c54340672f510fdb9d2f30595c1ab53</td>\n",
       "      <td>Richard Pabla</td>\n",
       "      <td>1404 SE Pine St</td>\n",
       "      <td>Portland</td>\n",
       "      <td>Oregon</td>\n",
       "      <td>97214.0</td>\n",
       "      <td>1960-12-18</td>\n",
       "      <td>male</td>\n",
       "      <td>College</td>\n",
       "      <td>Education &amp; Health</td>\n",
       "    </tr>\n",
       "    <tr>\n",
       "      <th>3</th>\n",
       "      <td>f0d9ce833ddc1f73c1e0b55bdebf012e</td>\n",
       "      <td>Charles Baker</td>\n",
       "      <td>12271 N Westshore Dr</td>\n",
       "      <td>Portland</td>\n",
       "      <td>Oregon</td>\n",
       "      <td>97217.0</td>\n",
       "      <td>2105-07-19</td>\n",
       "      <td>male</td>\n",
       "      <td>Graduate Degree</td>\n",
       "      <td>SALES</td>\n",
       "    </tr>\n",
       "    <tr>\n",
       "      <th>4</th>\n",
       "      <td>3720379163f6b46944db6c98c0485bfd</td>\n",
       "      <td>Ronald Lydon</td>\n",
       "      <td>5321 NE Skyport Way</td>\n",
       "      <td>NaN</td>\n",
       "      <td>Oregon</td>\n",
       "      <td>97218.0</td>\n",
       "      <td>1961-03-14</td>\n",
       "      <td>male</td>\n",
       "      <td>Graduate Degree</td>\n",
       "      <td>Blue Collar</td>\n",
       "    </tr>\n",
       "  </tbody>\n",
       "</table>\n",
       "</div>"
      ],
      "text/plain": [
       "                                 id               name        street_address  \\\n",
       "0  df83ec2d0d409395c0d8c2690cfa8b67  Cynthia Barnfield       44 NE Meikle Pl   \n",
       "1  6aec7ab2ea0d67161dac39e5dcabd857    Elizabeth Smith   7511 SE Harrison St   \n",
       "2  0c54340672f510fdb9d2f30595c1ab53      Richard Pabla       1404 SE Pine St   \n",
       "3  f0d9ce833ddc1f73c1e0b55bdebf012e      Charles Baker  12271 N Westshore Dr   \n",
       "4  3720379163f6b46944db6c98c0485bfd       Ronald Lydon   5321 NE Skyport Way   \n",
       "\n",
       "        city   state  zipcode  birth_date   gender        education  \\\n",
       "0  Portland   Oregon  97213.0  2009-09-10   female      High School   \n",
       "1   Portland  Oregon  97215.0  1956-12-15   female          College   \n",
       "2   Portland  Oregon  97214.0  1960-12-18     male          College   \n",
       "3   Portland  Oregon  97217.0  2105-07-19     male  Graduate Degree   \n",
       "4        NaN  Oregon  97218.0  1961-03-14     male  Graduate Degree   \n",
       "\n",
       "           occupation  \n",
       "0                 NaN  \n",
       "1         Blue Collar  \n",
       "2  Education & Health  \n",
       "3               SALES  \n",
       "4         Blue Collar  "
      ]
     },
     "execution_count": 25,
     "metadata": {},
     "output_type": "execute_result"
    }
   ],
   "source": [
    "# Checking customers data\n",
    "customers.head()"
   ]
  },
  {
   "cell_type": "code",
   "execution_count": 26,
   "id": "foster-thesis",
   "metadata": {},
   "outputs": [
    {
     "name": "stdout",
     "output_type": "stream",
     "text": [
      "<class 'pandas.core.frame.DataFrame'>\n",
      "RangeIndex: 2000 entries, 0 to 1999\n",
      "Data columns (total 10 columns):\n",
      " #   Column          Non-Null Count  Dtype \n",
      "---  ------          --------------  ----- \n",
      " 0   id              2000 non-null   object\n",
      " 1   name            2000 non-null   object\n",
      " 2   street_address  2000 non-null   object\n",
      " 3   city            1906 non-null   object\n",
      " 4   state           1898 non-null   object\n",
      " 5   zipcode         1999 non-null   object\n",
      " 6   birth_date      1893 non-null   object\n",
      " 7   gender          1899 non-null   object\n",
      " 8   education       1896 non-null   object\n",
      " 9   occupation      1893 non-null   object\n",
      "dtypes: object(10)\n",
      "memory usage: 156.4+ KB\n"
     ]
    }
   ],
   "source": [
    "customers.info()"
   ]
  },
  {
   "cell_type": "markdown",
   "id": "resistant-island",
   "metadata": {},
   "source": [
    " "
   ]
  },
  {
   "cell_type": "markdown",
   "id": "innocent-health",
   "metadata": {},
   "source": [
    "We can also join libraries and checkouts dataframes on library id and checkouts and customers on customer id (patron_id in checkouts and id in customers)."
   ]
  },
  {
   "cell_type": "code",
   "execution_count": 24,
   "id": "dramatic-parks",
   "metadata": {},
   "outputs": [
    {
     "data": {
      "text/plain": [
       "True"
      ]
     },
     "execution_count": 24,
     "metadata": {},
     "output_type": "execute_result"
    }
   ],
   "source": [
    "list(np.sort(libraries.id)) == list(np.sort(checkouts.library_id.unique()))"
   ]
  },
  {
   "cell_type": "code",
   "execution_count": 28,
   "id": "abstract-major",
   "metadata": {},
   "outputs": [
    {
     "data": {
      "text/plain": [
       "True"
      ]
     },
     "execution_count": 28,
     "metadata": {},
     "output_type": "execute_result"
    }
   ],
   "source": [
    "list(np.sort(checkouts.patron_id.unique())) == list(np.sort(customers.id.unique()))"
   ]
  },
  {
   "cell_type": "markdown",
   "id": "regulated-priest",
   "metadata": {},
   "source": [
    "# Joining dataframes and preprocessing the data"
   ]
  },
  {
   "cell_type": "code",
   "execution_count": 593,
   "id": "cathedral-surgeon",
   "metadata": {},
   "outputs": [],
   "source": [
    "# Joining checkouts and libraries\n",
    "chkout_lib = pd.merge(checkouts, libraries, left_on='library_id', right_on='id')\n",
    "chkout_lib.rename(columns={'id_x':'book_id', 'name': 'lib_name', 'street_address':'lib_addr', \n",
    "                           'city':'lib_city', 'region':'lib_region', 'postal_code':'lib_postal_code'}, inplace=True)\n",
    "chkout_lib.drop('id_y', axis=1, inplace=True)\n",
    "\n",
    "# Joining with books\n",
    "chkout_lib_bks = pd.merge(chkout_lib, books, left_on='book_id', right_on='id').drop('id', axis=1)\n",
    "\n",
    "# Joining with customers and getting a final dataframe\n",
    "df_final = pd.merge(chkout_lib_bks, customers, left_on='patron_id', right_on='id')\n",
    "df_final.rename(columns={'id':'cus_id'}, inplace=True)\n",
    "df_final.drop('patron_id', axis=1, inplace=True)"
   ]
  },
  {
   "cell_type": "code",
   "execution_count": 594,
   "id": "northern-monroe",
   "metadata": {},
   "outputs": [
    {
     "data": {
      "text/html": [
       "<div>\n",
       "<style scoped>\n",
       "    .dataframe tbody tr th:only-of-type {\n",
       "        vertical-align: middle;\n",
       "    }\n",
       "\n",
       "    .dataframe tbody tr th {\n",
       "        vertical-align: top;\n",
       "    }\n",
       "\n",
       "    .dataframe thead th {\n",
       "        text-align: right;\n",
       "    }\n",
       "</style>\n",
       "<table border=\"1\" class=\"dataframe\">\n",
       "  <thead>\n",
       "    <tr style=\"text-align: right;\">\n",
       "      <th></th>\n",
       "      <th>book_id</th>\n",
       "      <th>library_id</th>\n",
       "      <th>date_checkout</th>\n",
       "      <th>date_returned</th>\n",
       "      <th>lib_name</th>\n",
       "      <th>lib_addr</th>\n",
       "      <th>lib_city</th>\n",
       "      <th>lib_region</th>\n",
       "      <th>lib_postal_code</th>\n",
       "      <th>title</th>\n",
       "      <th>authors</th>\n",
       "      <th>publisher</th>\n",
       "      <th>publishedDate</th>\n",
       "      <th>categories</th>\n",
       "      <th>price</th>\n",
       "      <th>pages</th>\n",
       "      <th>cus_id</th>\n",
       "      <th>name</th>\n",
       "      <th>street_address</th>\n",
       "      <th>city</th>\n",
       "      <th>state</th>\n",
       "      <th>zipcode</th>\n",
       "      <th>birth_date</th>\n",
       "      <th>gender</th>\n",
       "      <th>education</th>\n",
       "      <th>occupation</th>\n",
       "    </tr>\n",
       "  </thead>\n",
       "  <tbody>\n",
       "    <tr>\n",
       "      <th>0</th>\n",
       "      <td>-xFj0vTLbRIC</td>\n",
       "      <td>225-222@5xc-jtz-hkf</td>\n",
       "      <td>2019-01-28</td>\n",
       "      <td>2018-11-13</td>\n",
       "      <td>MULTNOMAH County Library</td>\n",
       "      <td>216 ne Knott st</td>\n",
       "      <td>NaN</td>\n",
       "      <td>OR</td>\n",
       "      <td>NaN</td>\n",
       "      <td>Blood Engines</td>\n",
       "      <td>['T.A. Pratt']</td>\n",
       "      <td>Spectra</td>\n",
       "      <td>2007-09-25</td>\n",
       "      <td>['Fiction']</td>\n",
       "      <td>144.5</td>\n",
       "      <td>513</td>\n",
       "      <td>b071c9c68228a2b1d00e6f53677e16da</td>\n",
       "      <td>Rachelle Miller</td>\n",
       "      <td>73   NE Cook St</td>\n",
       "      <td>Portland</td>\n",
       "      <td>Oregon</td>\n",
       "      <td>97212.0</td>\n",
       "      <td>NaN</td>\n",
       "      <td>female</td>\n",
       "      <td>NaN</td>\n",
       "      <td>Tech</td>\n",
       "    </tr>\n",
       "    <tr>\n",
       "      <th>1</th>\n",
       "      <td>-xFj0vTLbRIC</td>\n",
       "      <td>225-222@5xc-jtz-hkf</td>\n",
       "      <td>2018-02-23</td>\n",
       "      <td>2018-02-07</td>\n",
       "      <td>MULTNOMAH County Library</td>\n",
       "      <td>216 ne Knott st</td>\n",
       "      <td>NaN</td>\n",
       "      <td>OR</td>\n",
       "      <td>NaN</td>\n",
       "      <td>Blood Engines</td>\n",
       "      <td>['T.A. Pratt']</td>\n",
       "      <td>Spectra</td>\n",
       "      <td>2007-09-25</td>\n",
       "      <td>['Fiction']</td>\n",
       "      <td>144.5</td>\n",
       "      <td>513</td>\n",
       "      <td>8c411ea2ffb648174f43b1faea6e7853</td>\n",
       "      <td>Walter Love</td>\n",
       "      <td>350 SW Jefferson St</td>\n",
       "      <td>Portland</td>\n",
       "      <td>Oregon</td>\n",
       "      <td>97201.0</td>\n",
       "      <td>1992-07-03</td>\n",
       "      <td>male</td>\n",
       "      <td>Graduate Degree</td>\n",
       "      <td>Admin &amp; Support</td>\n",
       "    </tr>\n",
       "    <tr>\n",
       "      <th>2</th>\n",
       "      <td>-xFj0vTLbRIC</td>\n",
       "      <td>zzw-222@5xc-knn-c5z</td>\n",
       "      <td>2018-04-21</td>\n",
       "      <td>2018-05-09</td>\n",
       "      <td>Multnomah County Library Holgate</td>\n",
       "      <td>7905  SE Holgate Blvd</td>\n",
       "      <td>Portland</td>\n",
       "      <td>OR</td>\n",
       "      <td>NaN</td>\n",
       "      <td>Blood Engines</td>\n",
       "      <td>['T.A. Pratt']</td>\n",
       "      <td>Spectra</td>\n",
       "      <td>2007-09-25</td>\n",
       "      <td>['Fiction']</td>\n",
       "      <td>144.5</td>\n",
       "      <td>513</td>\n",
       "      <td>24032e18ff12062ba68766387df2ee99</td>\n",
       "      <td>Linda Wilkes</td>\n",
       "      <td>3504 SE 92nd Ave</td>\n",
       "      <td>Portland</td>\n",
       "      <td>NaN</td>\n",
       "      <td>-97266.0</td>\n",
       "      <td>2005-06-29</td>\n",
       "      <td>female</td>\n",
       "      <td>Graduate Degree</td>\n",
       "      <td>Admin &amp; Support</td>\n",
       "    </tr>\n",
       "    <tr>\n",
       "      <th>3</th>\n",
       "      <td>-xFj0vTLbRIC</td>\n",
       "      <td>224-222@5xc-jw2-t9z</td>\n",
       "      <td>2018-02-07</td>\n",
       "      <td>1805-10-26</td>\n",
       "      <td>Multnomah COUNTY library Gregory Heights</td>\n",
       "      <td>7921 NE sandy BLVD</td>\n",
       "      <td>Portland</td>\n",
       "      <td>OR</td>\n",
       "      <td>_97213</td>\n",
       "      <td>Blood Engines</td>\n",
       "      <td>['T.A. Pratt']</td>\n",
       "      <td>Spectra</td>\n",
       "      <td>2007-09-25</td>\n",
       "      <td>['Fiction']</td>\n",
       "      <td>144.5</td>\n",
       "      <td>513</td>\n",
       "      <td>858cb6f405c31d839a94c2520baa3b55</td>\n",
       "      <td>Bill Pratt</td>\n",
       "      <td>11521 NE Sacramento St</td>\n",
       "      <td>Portland</td>\n",
       "      <td>Oregon</td>\n",
       "      <td>97220.0</td>\n",
       "      <td>2004-07-05</td>\n",
       "      <td>male</td>\n",
       "      <td>College</td>\n",
       "      <td>Education &amp; Health</td>\n",
       "    </tr>\n",
       "    <tr>\n",
       "      <th>4</th>\n",
       "      <td>-xFj0vTLbRIC</td>\n",
       "      <td>zzw-223@5xc-jv7-ct9</td>\n",
       "      <td>2018-01-15</td>\n",
       "      <td>2018-01-24</td>\n",
       "      <td>Friends OF the multnomah COUNTY Library</td>\n",
       "      <td>522  SW 5th  Ave</td>\n",
       "      <td>NaN</td>\n",
       "      <td>OR</td>\n",
       "      <td>97204</td>\n",
       "      <td>Blood Engines</td>\n",
       "      <td>['T.A. Pratt']</td>\n",
       "      <td>Spectra</td>\n",
       "      <td>2007-09-25</td>\n",
       "      <td>['Fiction']</td>\n",
       "      <td>144.5</td>\n",
       "      <td>513</td>\n",
       "      <td>529979f69bcda5cec760005da7978c11</td>\n",
       "      <td>Shirley Pollock</td>\n",
       "      <td>54 NE 12th Ave</td>\n",
       "      <td>NaN</td>\n",
       "      <td>Oregon</td>\n",
       "      <td>97232.0</td>\n",
       "      <td>2007-11-17</td>\n",
       "      <td>female</td>\n",
       "      <td>Others</td>\n",
       "      <td>Business &amp; Finance</td>\n",
       "    </tr>\n",
       "  </tbody>\n",
       "</table>\n",
       "</div>"
      ],
      "text/plain": [
       "        book_id           library_id date_checkout date_returned  \\\n",
       "0  -xFj0vTLbRIC  225-222@5xc-jtz-hkf    2019-01-28    2018-11-13   \n",
       "1  -xFj0vTLbRIC  225-222@5xc-jtz-hkf    2018-02-23    2018-02-07   \n",
       "2  -xFj0vTLbRIC  zzw-222@5xc-knn-c5z    2018-04-21    2018-05-09   \n",
       "3  -xFj0vTLbRIC  224-222@5xc-jw2-t9z    2018-02-07    1805-10-26   \n",
       "4  -xFj0vTLbRIC  zzw-223@5xc-jv7-ct9    2018-01-15    2018-01-24   \n",
       "\n",
       "                                   lib_name               lib_addr   lib_city  \\\n",
       "0                  MULTNOMAH County Library        216 ne Knott st        NaN   \n",
       "1                  MULTNOMAH County Library        216 ne Knott st        NaN   \n",
       "2          Multnomah County Library Holgate  7905  SE Holgate Blvd   Portland   \n",
       "3  Multnomah COUNTY library Gregory Heights     7921 NE sandy BLVD   Portland   \n",
       "4   Friends OF the multnomah COUNTY Library       522  SW 5th  Ave        NaN   \n",
       "\n",
       "  lib_region lib_postal_code          title         authors publisher  \\\n",
       "0         OR             NaN  Blood Engines  ['T.A. Pratt']   Spectra   \n",
       "1         OR             NaN  Blood Engines  ['T.A. Pratt']   Spectra   \n",
       "2         OR             NaN  Blood Engines  ['T.A. Pratt']   Spectra   \n",
       "3         OR          _97213  Blood Engines  ['T.A. Pratt']   Spectra   \n",
       "4         OR           97204  Blood Engines  ['T.A. Pratt']   Spectra   \n",
       "\n",
       "  publishedDate   categories  price pages                            cus_id  \\\n",
       "0    2007-09-25  ['Fiction']  144.5   513  b071c9c68228a2b1d00e6f53677e16da   \n",
       "1    2007-09-25  ['Fiction']  144.5   513  8c411ea2ffb648174f43b1faea6e7853   \n",
       "2    2007-09-25  ['Fiction']  144.5   513  24032e18ff12062ba68766387df2ee99   \n",
       "3    2007-09-25  ['Fiction']  144.5   513  858cb6f405c31d839a94c2520baa3b55   \n",
       "4    2007-09-25  ['Fiction']  144.5   513  529979f69bcda5cec760005da7978c11   \n",
       "\n",
       "              name          street_address      city   state   zipcode  \\\n",
       "0  Rachelle Miller         73   NE Cook St  Portland  Oregon   97212.0   \n",
       "1      Walter Love     350 SW Jefferson St  Portland  Oregon   97201.0   \n",
       "2     Linda Wilkes        3504 SE 92nd Ave  Portland     NaN  -97266.0   \n",
       "3       Bill Pratt  11521 NE Sacramento St  Portland  Oregon   97220.0   \n",
       "4  Shirley Pollock          54 NE 12th Ave       NaN  Oregon   97232.0   \n",
       "\n",
       "   birth_date   gender        education          occupation  \n",
       "0         NaN   female              NaN                Tech  \n",
       "1  1992-07-03     male  Graduate Degree     Admin & Support  \n",
       "2  2005-06-29  female   Graduate Degree     Admin & Support  \n",
       "3  2004-07-05     male          College  Education & Health  \n",
       "4  2007-11-17   female           Others  Business & Finance  "
      ]
     },
     "execution_count": 594,
     "metadata": {},
     "output_type": "execute_result"
    }
   ],
   "source": [
    "df_final.head()"
   ]
  },
  {
   "cell_type": "code",
   "execution_count": 595,
   "id": "aerial-foundation",
   "metadata": {},
   "outputs": [
    {
     "name": "stdout",
     "output_type": "stream",
     "text": [
      "<class 'pandas.core.frame.DataFrame'>\n",
      "Int64Index: 2000 entries, 0 to 1999\n",
      "Data columns (total 26 columns):\n",
      " #   Column           Non-Null Count  Dtype \n",
      "---  ------           --------------  ----- \n",
      " 0   book_id          2000 non-null   object\n",
      " 1   library_id       2000 non-null   object\n",
      " 2   date_checkout    1935 non-null   object\n",
      " 3   date_returned    1942 non-null   object\n",
      " 4   lib_name         2000 non-null   object\n",
      " 5   lib_addr         2000 non-null   object\n",
      " 6   lib_city         1573 non-null   object\n",
      " 7   lib_region       1783 non-null   object\n",
      " 8   lib_postal_code  1667 non-null   object\n",
      " 9   title            2000 non-null   object\n",
      " 10  authors          1458 non-null   object\n",
      " 11  publisher        781 non-null    object\n",
      " 12  publishedDate    1981 non-null   object\n",
      " 13  categories       1684 non-null   object\n",
      " 14  price            1985 non-null   object\n",
      " 15  pages            2000 non-null   object\n",
      " 16  cus_id           2000 non-null   object\n",
      " 17  name             2000 non-null   object\n",
      " 18  street_address   2000 non-null   object\n",
      " 19  city             1906 non-null   object\n",
      " 20  state            1898 non-null   object\n",
      " 21  zipcode          1999 non-null   object\n",
      " 22  birth_date       1893 non-null   object\n",
      " 23  gender           1899 non-null   object\n",
      " 24  education        1896 non-null   object\n",
      " 25  occupation       1893 non-null   object\n",
      "dtypes: object(26)\n",
      "memory usage: 421.9+ KB\n"
     ]
    }
   ],
   "source": [
    "# Let's see what we have in the final dataframe\n",
    "df_final.info()"
   ]
  },
  {
   "cell_type": "markdown",
   "id": "palestinian-forestry",
   "metadata": {},
   "source": [
    "As we see there are some records in the dataset that have missing values for checkout dates in which case we won't be able to say whether the books were returned late. Therefore, it makes sense to drop those rows."
   ]
  },
  {
   "cell_type": "code",
   "execution_count": 596,
   "id": "distant-amount",
   "metadata": {},
   "outputs": [],
   "source": [
    "df_final1 = df_final[df_final.date_checkout.notna()]"
   ]
  },
  {
   "cell_type": "markdown",
   "id": "dressed-flour",
   "metadata": {},
   "source": [
    "65 records have missing checkout dates"
   ]
  },
  {
   "cell_type": "code",
   "execution_count": 597,
   "id": "innovative-prompt",
   "metadata": {},
   "outputs": [
    {
     "data": {
      "text/plain": [
       "65"
      ]
     },
     "execution_count": 597,
     "metadata": {},
     "output_type": "execute_result"
    }
   ],
   "source": [
    "2000 - len(df_final1)"
   ]
  },
  {
   "cell_type": "markdown",
   "id": "greenhouse-license",
   "metadata": {},
   "source": [
    "Some of the string values though representing the same thing but have been entered in various formats which makes pandas recognize them as different values. To avoid that we need to put them in a consistent format. We also need to convert date objects into datetime object for further processing purposes."
   ]
  },
  {
   "cell_type": "code",
   "execution_count": 598,
   "id": "robust-cornwall",
   "metadata": {},
   "outputs": [],
   "source": [
    "# Function to rearrange date strings in a consistent way\n",
    "import re\n",
    "def rearrange_dates(s):\n",
    "    date_re = re.compile('[0-9]+')\n",
    "    return \"\".join(date_re.findall(s))"
   ]
  },
  {
   "cell_type": "code",
   "execution_count": 599,
   "id": "silent-label",
   "metadata": {},
   "outputs": [],
   "source": [
    "# Function to convert date strings into datetime objects\n",
    "import re\n",
    "from datetime import datetime\n",
    "def get_date(s):\n",
    "    try:\n",
    "        date_re = re.compile('[0-9]+')\n",
    "        s = s.strip()\n",
    "        s =  \"\".join(date_re.findall(s))\n",
    "        return datetime.strptime(s, '%Y%m%d')\n",
    "    except:\n",
    "        return datetime.strptime('20200101', '%Y%m%d')"
   ]
  },
  {
   "cell_type": "code",
   "execution_count": 600,
   "id": "organized-league",
   "metadata": {},
   "outputs": [
    {
     "name": "stderr",
     "output_type": "stream",
     "text": [
      "C:\\Users\\uvata\\AppData\\Roaming\\Python\\Python38\\site-packages\\pandas\\core\\generic.py:5491: SettingWithCopyWarning: \n",
      "A value is trying to be set on a copy of a slice from a DataFrame.\n",
      "Try using .loc[row_indexer,col_indexer] = value instead\n",
      "\n",
      "See the caveats in the documentation: https://pandas.pydata.org/pandas-docs/stable/user_guide/indexing.html#returning-a-view-versus-a-copy\n",
      "  self[name] = value\n"
     ]
    }
   ],
   "source": [
    "df_final1.date_checkout = list(map(lambda x: get_date(x), df_final1.date_checkout))\n",
    "df_final1.date_returned = list(map(lambda x: get_date(x), df_final1.date_returned))"
   ]
  },
  {
   "cell_type": "code",
   "execution_count": 601,
   "id": "external-cylinder",
   "metadata": {},
   "outputs": [
    {
     "name": "stderr",
     "output_type": "stream",
     "text": [
      "<ipython-input-601-6b791f07facb>:3: SettingWithCopyWarning: \n",
      "A value is trying to be set on a copy of a slice from a DataFrame.\n",
      "Try using .loc[row_indexer,col_indexer] = value instead\n",
      "\n",
      "See the caveats in the documentation: https://pandas.pydata.org/pandas-docs/stable/user_guide/indexing.html#returning-a-view-versus-a-copy\n",
      "  df_final1['returned_within_days'] = returned_within_days\n"
     ]
    }
   ],
   "source": [
    "# Adding a new column for the number of days until a book was returned\n",
    "returned_within_days = list(map(lambda x,y: (y - x).days, df_final1.date_checkout, df_final1.date_returned ))\n",
    "df_final1['returned_within_days'] = returned_within_days"
   ]
  },
  {
   "cell_type": "code",
   "execution_count": 602,
   "id": "informative-blair",
   "metadata": {},
   "outputs": [
    {
     "data": {
      "text/html": [
       "<div>\n",
       "<style scoped>\n",
       "    .dataframe tbody tr th:only-of-type {\n",
       "        vertical-align: middle;\n",
       "    }\n",
       "\n",
       "    .dataframe tbody tr th {\n",
       "        vertical-align: top;\n",
       "    }\n",
       "\n",
       "    .dataframe thead th {\n",
       "        text-align: right;\n",
       "    }\n",
       "</style>\n",
       "<table border=\"1\" class=\"dataframe\">\n",
       "  <thead>\n",
       "    <tr style=\"text-align: right;\">\n",
       "      <th></th>\n",
       "      <th>book_id</th>\n",
       "      <th>library_id</th>\n",
       "      <th>date_checkout</th>\n",
       "      <th>date_returned</th>\n",
       "      <th>lib_name</th>\n",
       "      <th>lib_addr</th>\n",
       "      <th>lib_city</th>\n",
       "      <th>lib_region</th>\n",
       "      <th>lib_postal_code</th>\n",
       "      <th>title</th>\n",
       "      <th>authors</th>\n",
       "      <th>publisher</th>\n",
       "      <th>publishedDate</th>\n",
       "      <th>categories</th>\n",
       "      <th>price</th>\n",
       "      <th>pages</th>\n",
       "      <th>cus_id</th>\n",
       "      <th>name</th>\n",
       "      <th>street_address</th>\n",
       "      <th>city</th>\n",
       "      <th>state</th>\n",
       "      <th>zipcode</th>\n",
       "      <th>birth_date</th>\n",
       "      <th>gender</th>\n",
       "      <th>education</th>\n",
       "      <th>occupation</th>\n",
       "      <th>returned_within_days</th>\n",
       "    </tr>\n",
       "  </thead>\n",
       "  <tbody>\n",
       "    <tr>\n",
       "      <th>385</th>\n",
       "      <td>WBZ4DAAAQBAJ</td>\n",
       "      <td>222-222@5xc-jvf-skf</td>\n",
       "      <td>1800-12-29</td>\n",
       "      <td>2018-12-27</td>\n",
       "      <td>Multnomah County Library St Johns</td>\n",
       "      <td>7510 N Charleston Ave</td>\n",
       "      <td>portland</td>\n",
       "      <td>or</td>\n",
       "      <td>97203</td>\n",
       "      <td>Sex and Gender in Acute Care Medicine</td>\n",
       "      <td>['Alyson J. McGregor', 'Esther K. Choo', 'Bruc...</td>\n",
       "      <td>Cambridge University Press</td>\n",
       "      <td>2016-05-20</td>\n",
       "      <td>['Medical']</td>\n",
       "      <td>353.5</td>\n",
       "      <td>603</td>\n",
       "      <td>f7ab6236ee75e9bf2cd7433af45ed604</td>\n",
       "      <td>Kathryn Dortch</td>\n",
       "      <td>9001 N Columbia Blvd</td>\n",
       "      <td>Portland</td>\n",
       "      <td>Oregon</td>\n",
       "      <td>97203.0</td>\n",
       "      <td>1960-09-15</td>\n",
       "      <td>female</td>\n",
       "      <td>Graduate Degree</td>\n",
       "      <td>Admin &amp; Support</td>\n",
       "      <td>79621</td>\n",
       "    </tr>\n",
       "    <tr>\n",
       "      <th>944</th>\n",
       "      <td>CMlXAAAAMAAJ</td>\n",
       "      <td>22c-222@5xc-jwj-pvz</td>\n",
       "      <td>1800-08-09</td>\n",
       "      <td>2018-06-24</td>\n",
       "      <td>MULTNOMAH County Library KENTON</td>\n",
       "      <td>8226 N DENVER Ave</td>\n",
       "      <td>portland</td>\n",
       "      <td>OR</td>\n",
       "      <td>#97217</td>\n",
       "      <td>Medicine and Surgery</td>\n",
       "      <td>NaN</td>\n",
       "      <td>NaN</td>\n",
       "      <td>1918</td>\n",
       "      <td>['Medicine']</td>\n",
       "      <td>307.99</td>\n",
       "      <td>587</td>\n",
       "      <td>886735c8a578dee0c0edb77f0279f20d</td>\n",
       "      <td>Douglass Lighten</td>\n",
       "      <td>3866 NE Holman St</td>\n",
       "      <td>Portland</td>\n",
       "      <td>Oregon</td>\n",
       "      <td>97211.0</td>\n",
       "      <td>1812-04-08</td>\n",
       "      <td>male</td>\n",
       "      <td>High School</td>\n",
       "      <td>Tech</td>\n",
       "      <td>79577</td>\n",
       "    </tr>\n",
       "    <tr>\n",
       "      <th>1271</th>\n",
       "      <td>crikJiTbRAAC</td>\n",
       "      <td>23v-222@5xc-jv7-v4v</td>\n",
       "      <td>1800-12-26</td>\n",
       "      <td>2018-07-31</td>\n",
       "      <td>Multnomah County Library Northwest</td>\n",
       "      <td>2300 NW Thurman  St</td>\n",
       "      <td>NaN</td>\n",
       "      <td>or</td>\n",
       "      <td>NaN</td>\n",
       "      <td>How to Build and Modify GM LS-Series Engines</td>\n",
       "      <td>['Joseph Potak']</td>\n",
       "      <td>Motorbooks</td>\n",
       "      <td>2009-10-01</td>\n",
       "      <td>['Transportation']</td>\n",
       "      <td>411.0</td>\n",
       "      <td>787</td>\n",
       "      <td>24606f47f66a43b4b12d9de5808fd959</td>\n",
       "      <td>Gilbert Williams</td>\n",
       "      <td>4883 SW Dosch Rd</td>\n",
       "      <td>Portland</td>\n",
       "      <td>Oregon</td>\n",
       "      <td>97239.0</td>\n",
       "      <td>1990-12-18</td>\n",
       "      <td>male</td>\n",
       "      <td>College</td>\n",
       "      <td>Sales</td>\n",
       "      <td>79475</td>\n",
       "    </tr>\n",
       "    <tr>\n",
       "      <th>1486</th>\n",
       "      <td>ggIKAAAAIAAJ</td>\n",
       "      <td>222-222@5xc-jv5-nt9</td>\n",
       "      <td>1800-10-17</td>\n",
       "      <td>2018-05-11</td>\n",
       "      <td>Multnomah  County  Library  North Portland</td>\n",
       "      <td>512    N Killingsworth St</td>\n",
       "      <td>Portland</td>\n",
       "      <td>OR</td>\n",
       "      <td>#97217</td>\n",
       "      <td>A catechism of the steam engine</td>\n",
       "      <td>['John Bourne']</td>\n",
       "      <td>NaN</td>\n",
       "      <td>1850</td>\n",
       "      <td>NaN</td>\n",
       "      <td>324.0</td>\n",
       "      <td>527</td>\n",
       "      <td>819f89c4561234551a1c2e89126c4bd1</td>\n",
       "      <td>James Bateman</td>\n",
       "      <td>501 N Farragut St</td>\n",
       "      <td>PORTLAND</td>\n",
       "      <td>Oregon</td>\n",
       "      <td>97217.0</td>\n",
       "      <td>2108-08-31</td>\n",
       "      <td>male</td>\n",
       "      <td>High School</td>\n",
       "      <td>Blue Collar</td>\n",
       "      <td>79464</td>\n",
       "    </tr>\n",
       "    <tr>\n",
       "      <th>259</th>\n",
       "      <td>DMFS2GsTdO4C</td>\n",
       "      <td>225-222@5xc-jtz-hkf</td>\n",
       "      <td>1801-02-16</td>\n",
       "      <td>2018-02-11</td>\n",
       "      <td>MULTNOMAH County Library</td>\n",
       "      <td>216 ne Knott st</td>\n",
       "      <td>NaN</td>\n",
       "      <td>OR</td>\n",
       "      <td>NaN</td>\n",
       "      <td>Humor in Advertising</td>\n",
       "      <td>['Charles S. Gulas', 'Marc G. Weinberger']</td>\n",
       "      <td>M.E. Sharpe</td>\n",
       "      <td>2006</td>\n",
       "      <td>['Business &amp; Economics']</td>\n",
       "      <td>479.99</td>\n",
       "      <td>749</td>\n",
       "      <td>a3ce53d5217160f6d12da4aed1d7bc3a</td>\n",
       "      <td>Jason Fischer</td>\n",
       "      <td>3468 NE Peerless Pl</td>\n",
       "      <td>Portland</td>\n",
       "      <td>Oregon</td>\n",
       "      <td>97232.0</td>\n",
       "      <td>2118-06-29</td>\n",
       "      <td>male</td>\n",
       "      <td>High School</td>\n",
       "      <td>Blue Collar</td>\n",
       "      <td>79253</td>\n",
       "    </tr>\n",
       "  </tbody>\n",
       "</table>\n",
       "</div>"
      ],
      "text/plain": [
       "           book_id           library_id date_checkout date_returned  \\\n",
       "385   WBZ4DAAAQBAJ  222-222@5xc-jvf-skf    1800-12-29    2018-12-27   \n",
       "944   CMlXAAAAMAAJ  22c-222@5xc-jwj-pvz    1800-08-09    2018-06-24   \n",
       "1271  crikJiTbRAAC  23v-222@5xc-jv7-v4v    1800-12-26    2018-07-31   \n",
       "1486  ggIKAAAAIAAJ  222-222@5xc-jv5-nt9    1800-10-17    2018-05-11   \n",
       "259   DMFS2GsTdO4C  225-222@5xc-jtz-hkf    1801-02-16    2018-02-11   \n",
       "\n",
       "                                        lib_name                    lib_addr  \\\n",
       "385            Multnomah County Library St Johns       7510 N Charleston Ave   \n",
       "944              MULTNOMAH County Library KENTON           8226 N DENVER Ave   \n",
       "1271          Multnomah County Library Northwest         2300 NW Thurman  St   \n",
       "1486  Multnomah  County  Library  North Portland  512    N Killingsworth St    \n",
       "259                     MULTNOMAH County Library             216 ne Knott st   \n",
       "\n",
       "       lib_city lib_region lib_postal_code  \\\n",
       "385    portland         or           97203   \n",
       "944    portland         OR          #97217   \n",
       "1271        NaN         or             NaN   \n",
       "1486  Portland         OR           #97217   \n",
       "259         NaN         OR             NaN   \n",
       "\n",
       "                                             title  \\\n",
       "385          Sex and Gender in Acute Care Medicine   \n",
       "944                           Medicine and Surgery   \n",
       "1271  How to Build and Modify GM LS-Series Engines   \n",
       "1486               A catechism of the steam engine   \n",
       "259                           Humor in Advertising   \n",
       "\n",
       "                                                authors  \\\n",
       "385   ['Alyson J. McGregor', 'Esther K. Choo', 'Bruc...   \n",
       "944                                                 NaN   \n",
       "1271                                   ['Joseph Potak']   \n",
       "1486                                    ['John Bourne']   \n",
       "259          ['Charles S. Gulas', 'Marc G. Weinberger']   \n",
       "\n",
       "                       publisher publishedDate                categories  \\\n",
       "385   Cambridge University Press    2016-05-20               ['Medical']   \n",
       "944                          NaN          1918              ['Medicine']   \n",
       "1271                  Motorbooks    2009-10-01        ['Transportation']   \n",
       "1486                         NaN          1850                       NaN   \n",
       "259                  M.E. Sharpe          2006  ['Business & Economics']   \n",
       "\n",
       "       price pages                            cus_id              name  \\\n",
       "385    353.5   603  f7ab6236ee75e9bf2cd7433af45ed604    Kathryn Dortch   \n",
       "944   307.99   587  886735c8a578dee0c0edb77f0279f20d  Douglass Lighten   \n",
       "1271   411.0   787  24606f47f66a43b4b12d9de5808fd959  Gilbert Williams   \n",
       "1486   324.0   527  819f89c4561234551a1c2e89126c4bd1     James Bateman   \n",
       "259   479.99   749  a3ce53d5217160f6d12da4aed1d7bc3a     Jason Fischer   \n",
       "\n",
       "            street_address      city    state  zipcode  birth_date  gender  \\\n",
       "385   9001 N Columbia Blvd  Portland  Oregon   97203.0  1960-09-15  female   \n",
       "944      3866 NE Holman St  Portland   Oregon  97211.0  1812-04-08    male   \n",
       "1271      4883 SW Dosch Rd  Portland   Oregon  97239.0  1990-12-18    male   \n",
       "1486     501 N Farragut St  PORTLAND   Oregon  97217.0  2108-08-31    male   \n",
       "259    3468 NE Peerless Pl  Portland   Oregon  97232.0  2118-06-29    male   \n",
       "\n",
       "            education       occupation  returned_within_days  \n",
       "385   Graduate Degree  Admin & Support                 79621  \n",
       "944       High School             Tech                 79577  \n",
       "1271          College            Sales                 79475  \n",
       "1486      High School      Blue Collar                 79464  \n",
       "259       High School      Blue Collar                 79253  "
      ]
     },
     "execution_count": 602,
     "metadata": {},
     "output_type": "execute_result"
    }
   ],
   "source": [
    "df_final1.sort_values(by='returned_within_days', ascending=False).head()"
   ]
  },
  {
   "cell_type": "markdown",
   "id": "aerial-easter",
   "metadata": {},
   "source": [
    "Let's see what we got in the return_within_days column."
   ]
  },
  {
   "cell_type": "code",
   "execution_count": 607,
   "id": "polish-columbus",
   "metadata": {},
   "outputs": [
    {
     "data": {
      "text/plain": [
       "count     1935.000000\n",
       "mean       578.846512\n",
       "std      24903.361887\n",
       "min     -79858.000000\n",
       "25%          8.000000\n",
       "50%         17.000000\n",
       "75%         25.000000\n",
       "max      79621.000000\n",
       "Name: returned_within_days, dtype: float64"
      ]
     },
     "execution_count": 607,
     "metadata": {},
     "output_type": "execute_result"
    }
   ],
   "source": [
    "df_final1.returned_within_days.describe()"
   ]
  },
  {
   "cell_type": "markdown",
   "id": "collaborative-study",
   "metadata": {},
   "source": [
    "Some of these values are negative which means the return dates were prior to checkout dates. Some others are positive but if converted into years, they correspond to 100 years. Both cases indicate that either checkout date or return date were recorded incorrectly. Therefore, we can drop these rows with faulty values. Let's filter that by return_within_days time less than 20 years and see what it looks like."
   ]
  },
  {
   "cell_type": "code",
   "execution_count": 608,
   "id": "miniature-residence",
   "metadata": {},
   "outputs": [
    {
     "data": {
      "image/png": "[encoded data removed]",
      "text/plain": [
       "<Figure size 432x288 with 1 Axes>"
      ]
     },
     "metadata": {
      "needs_background": "light"
     },
     "output_type": "display_data"
    }
   ],
   "source": [
    "# Let's plot a histogram of returned_within_days to see its distribution\n",
    "import matplotlib.pyplot as plt\n",
    "import numpy as np\n",
    "%matplotlib inline\n",
    "\n",
    "np.random.seed(42)\n",
    "x = df_final1[df_final1.returned_within_days>=0].returned_within_days\n",
    "\n",
    "plt.hist(x, density=True, bins=30)  # density=False would make counts\n",
    "plt.ylabel('Probability')\n",
    "plt.xlabel('Data');"
   ]
  },
  {
   "cell_type": "markdown",
   "id": "pleasant-reggae",
   "metadata": {},
   "source": [
    "There are clearly some outliers that we need to drop to proceed in our analysis."
   ]
  },
  {
   "cell_type": "code",
   "execution_count": 610,
   "id": "aerial-outreach",
   "metadata": {},
   "outputs": [
    {
     "data": {
      "text/html": [
       "<div>\n",
       "<style scoped>\n",
       "    .dataframe tbody tr th:only-of-type {\n",
       "        vertical-align: middle;\n",
       "    }\n",
       "\n",
       "    .dataframe tbody tr th {\n",
       "        vertical-align: top;\n",
       "    }\n",
       "\n",
       "    .dataframe thead th {\n",
       "        text-align: right;\n",
       "    }\n",
       "</style>\n",
       "<table border=\"1\" class=\"dataframe\">\n",
       "  <thead>\n",
       "    <tr style=\"text-align: right;\">\n",
       "      <th></th>\n",
       "      <th>book_id</th>\n",
       "      <th>library_id</th>\n",
       "      <th>date_checkout</th>\n",
       "      <th>date_returned</th>\n",
       "      <th>lib_name</th>\n",
       "      <th>lib_addr</th>\n",
       "      <th>lib_city</th>\n",
       "      <th>lib_region</th>\n",
       "      <th>lib_postal_code</th>\n",
       "      <th>title</th>\n",
       "      <th>authors</th>\n",
       "      <th>publisher</th>\n",
       "      <th>publishedDate</th>\n",
       "      <th>categories</th>\n",
       "      <th>price</th>\n",
       "      <th>pages</th>\n",
       "      <th>cus_id</th>\n",
       "      <th>name</th>\n",
       "      <th>street_address</th>\n",
       "      <th>city</th>\n",
       "      <th>state</th>\n",
       "      <th>zipcode</th>\n",
       "      <th>birth_date</th>\n",
       "      <th>gender</th>\n",
       "      <th>education</th>\n",
       "      <th>occupation</th>\n",
       "      <th>returned_within_days</th>\n",
       "    </tr>\n",
       "  </thead>\n",
       "  <tbody>\n",
       "    <tr>\n",
       "      <th>1233</th>\n",
       "      <td>iGoXAQAAMAAJ</td>\n",
       "      <td>zzw-223@5xc-jv7-ct9</td>\n",
       "      <td>2018-01-03</td>\n",
       "      <td>2020-01-01</td>\n",
       "      <td>Friends OF the multnomah COUNTY Library</td>\n",
       "      <td>522  SW 5th  Ave</td>\n",
       "      <td>NaN</td>\n",
       "      <td>OR</td>\n",
       "      <td>97204</td>\n",
       "      <td>Analytic Cyclopedia of Practical Medicine</td>\n",
       "      <td>['Charles Eucharist de Medicis Sajous']</td>\n",
       "      <td>NaN</td>\n",
       "      <td>1922</td>\n",
       "      <td>NaN</td>\n",
       "      <td>219.5</td>\n",
       "      <td>527</td>\n",
       "      <td>8adbb5ee424bef61d3e7aba4552f394b</td>\n",
       "      <td>Edward Singh</td>\n",
       "      <td>6800 SE Harmony Rd</td>\n",
       "      <td>Portland</td>\n",
       "      <td>Oregon</td>\n",
       "      <td>97222.0</td>\n",
       "      <td>1953-01-21</td>\n",
       "      <td>male</td>\n",
       "      <td>Graduate Degree</td>\n",
       "      <td>Admin &amp; Support</td>\n",
       "      <td>728</td>\n",
       "    </tr>\n",
       "    <tr>\n",
       "      <th>1988</th>\n",
       "      <td>vYOofF63aBoC</td>\n",
       "      <td>zzw-223@5xc-jv7-ct9</td>\n",
       "      <td>2018-01-09</td>\n",
       "      <td>2020-01-01</td>\n",
       "      <td>Friends OF the multnomah COUNTY Library</td>\n",
       "      <td>522  SW 5th  Ave</td>\n",
       "      <td>NaN</td>\n",
       "      <td>OR</td>\n",
       "      <td>97204</td>\n",
       "      <td>Advertising to Children in China</td>\n",
       "      <td>['Kara K. W. Chan', 'Kara Chan', 'James U. McN...</td>\n",
       "      <td>Chinese University Press</td>\n",
       "      <td>2004</td>\n",
       "      <td>['Political Science']</td>\n",
       "      <td>USD404.99</td>\n",
       "      <td>559</td>\n",
       "      <td>16e18bc0e3d881671c1312ba8c690934</td>\n",
       "      <td>Kenneth Chavez</td>\n",
       "      <td>3735 SE 28th Ave</td>\n",
       "      <td>Portland</td>\n",
       "      <td>Oregon</td>\n",
       "      <td>97202.0</td>\n",
       "      <td>1978-08-26</td>\n",
       "      <td>male</td>\n",
       "      <td>College</td>\n",
       "      <td>Tech</td>\n",
       "      <td>722</td>\n",
       "    </tr>\n",
       "  </tbody>\n",
       "</table>\n",
       "</div>"
      ],
      "text/plain": [
       "           book_id           library_id date_checkout date_returned  \\\n",
       "1233  iGoXAQAAMAAJ  zzw-223@5xc-jv7-ct9    2018-01-03    2020-01-01   \n",
       "1988  vYOofF63aBoC  zzw-223@5xc-jv7-ct9    2018-01-09    2020-01-01   \n",
       "\n",
       "                                     lib_name           lib_addr lib_city  \\\n",
       "1233  Friends OF the multnomah COUNTY Library   522  SW 5th  Ave      NaN   \n",
       "1988  Friends OF the multnomah COUNTY Library   522  SW 5th  Ave      NaN   \n",
       "\n",
       "     lib_region lib_postal_code                                      title  \\\n",
       "1233         OR           97204  Analytic Cyclopedia of Practical Medicine   \n",
       "1988         OR           97204           Advertising to Children in China   \n",
       "\n",
       "                                                authors  \\\n",
       "1233            ['Charles Eucharist de Medicis Sajous']   \n",
       "1988  ['Kara K. W. Chan', 'Kara Chan', 'James U. McN...   \n",
       "\n",
       "                     publisher publishedDate             categories  \\\n",
       "1233                       NaN          1922                    NaN   \n",
       "1988  Chinese University Press          2004  ['Political Science']   \n",
       "\n",
       "          price pages                            cus_id            name  \\\n",
       "1233      219.5   527  8adbb5ee424bef61d3e7aba4552f394b    Edward Singh   \n",
       "1988  USD404.99   559  16e18bc0e3d881671c1312ba8c690934  Kenneth Chavez   \n",
       "\n",
       "          street_address      city   state  zipcode  birth_date gender  \\\n",
       "1233  6800 SE Harmony Rd  Portland  Oregon  97222.0  1953-01-21  male    \n",
       "1988    3735 SE 28th Ave  Portland  Oregon  97202.0  1978-08-26   male   \n",
       "\n",
       "            education        occupation  returned_within_days  \n",
       "1233  Graduate Degree  Admin & Support                    728  \n",
       "1988          College              Tech                   722  "
      ]
     },
     "execution_count": 610,
     "metadata": {},
     "output_type": "execute_result"
    }
   ],
   "source": [
    "# Filtering out return_within_days values that are neative and those more than 20 years based on recorded dates\n",
    "df_final1_cleaned = df_final1[(df_final1.returned_within_days >= 0)&(df_final1.returned_within_days < 20*356)]\n",
    "df_final1_cleaned.sort_values(by='returned_within_days', ascending=False).head(2)"
   ]
  },
  {
   "cell_type": "markdown",
   "id": "adjacent-accident",
   "metadata": {},
   "source": [
    "Now let's plot return_within_days"
   ]
  },
  {
   "cell_type": "code",
   "execution_count": 611,
   "id": "binding-atlantic",
   "metadata": {},
   "outputs": [
    {
     "data": {
      "text/plain": [
       "<AxesSubplot:xlabel='date_checkout'>"
      ]
     },
     "execution_count": 611,
     "metadata": {},
     "output_type": "execute_result"
    },
    {
     "data": {
      "image/png": "[encoded data removed]",
      "text/plain": [
       "<Figure size 720x432 with 1 Axes>"
      ]
     },
     "metadata": {
      "needs_background": "light"
     },
     "output_type": "display_data"
    }
   ],
   "source": [
    "# Let's plot it\n",
    "df_final1_cleaned.plot(x='date_checkout', y='returned_within_days', figsize=(10,6))"
   ]
  },
  {
   "cell_type": "markdown",
   "id": "fabulous-submission",
   "metadata": {},
   "source": [
    " "
   ]
  },
  {
   "cell_type": "markdown",
   "id": "inclusive-ridge",
   "metadata": {},
   "source": [
    "This plot gives us a more realistic snapshot of the status of book returns. It not only shows that most of the returns were within the 28 day limit but also shows that the most delayed returns were within 180 days of checkout (this also includes books that have not yet been returned)."
   ]
  },
  {
   "cell_type": "markdown",
   "id": "damaged-plasma",
   "metadata": {},
   "source": [
    "After removing records with missing or incorrect checkout and/or return dates and outliers, we have clean data with 1451 records where we can reasonably rely on checkout and return dates being recorded correctly and now, we can analyze actual late returns."
   ]
  },
  {
   "cell_type": "markdown",
   "id": "moral-fireplace",
   "metadata": {},
   "source": [
    "I was also interested to see if the time of the year had an effect on customers returning books late but the data seems to be stationary in the above plot (the downward slope illustrates books that have not been returned for which I replaced nan value with 2020-01-01 to make further analysis easier)."
   ]
  },
  {
   "cell_type": "code",
   "execution_count": 612,
   "id": "double-relationship",
   "metadata": {},
   "outputs": [
    {
     "name": "stdout",
     "output_type": "stream",
     "text": [
      "Number of books that have not been returned:  58\n"
     ]
    }
   ],
   "source": [
    "print('Number of books that have not been returned: ',len(df_final1[df_final1.date_returned == '2020-01-01']))"
   ]
  },
  {
   "cell_type": "code",
   "execution_count": 615,
   "id": "strong-virgin",
   "metadata": {},
   "outputs": [
    {
     "name": "stdout",
     "output_type": "stream",
     "text": [
      "All records:  1509\n",
      "Late returns:  190\n"
     ]
    }
   ],
   "source": [
    "# Number of records with late returns\n",
    "print('All records: ',len(df_final1_cleaned))\n",
    "print('Late returns: ', len(df_final1_cleaned[df_final1_cleaned.returned_within_days>28]))"
   ]
  },
  {
   "cell_type": "markdown",
   "id": "addressed-platform",
   "metadata": {},
   "source": [
    "Let's see what is the ratio of late returns based on the new data"
   ]
  },
  {
   "cell_type": "code",
   "execution_count": 616,
   "id": "fifty-hypothesis",
   "metadata": {},
   "outputs": [
    {
     "data": {
      "text/plain": [
       "0.12591119946984758"
      ]
     },
     "execution_count": 616,
     "metadata": {},
     "output_type": "execute_result"
    }
   ],
   "source": [
    "190/1509"
   ]
  },
  {
   "cell_type": "markdown",
   "id": "closed-training",
   "metadata": {},
   "source": [
    "Aparently less than 13% of the books have not been returned within 28 days. As this is a classification problem for our machine learning model, we will have a highly imbalanced data. That is 13% belongs to late class and 87% belongs to not-late (returned on-time) class. We need to deal with this imbalance before we model our data so that we achieve a realistic accuracy in predicting late returns."
   ]
  },
  {
   "cell_type": "markdown",
   "id": "cardiac-fetish",
   "metadata": {},
   "source": [
    "Now, let's create our target variable which defines if a book was returned late indicated with value 1 and else with 0."
   ]
  },
  {
   "cell_type": "code",
   "execution_count": null,
   "id": "brown-vietnamese",
   "metadata": {},
   "outputs": [],
   "source": [
    "late = [1 if x>28 else 0 for x in df_final1_cleaned.returned_within_days]\n",
    "df_final1_cleaned['late'] = late"
   ]
  },
  {
   "cell_type": "code",
   "execution_count": 620,
   "id": "specific-transcription",
   "metadata": {},
   "outputs": [
    {
     "data": {
      "text/html": [
       "<div>\n",
       "<style scoped>\n",
       "    .dataframe tbody tr th:only-of-type {\n",
       "        vertical-align: middle;\n",
       "    }\n",
       "\n",
       "    .dataframe tbody tr th {\n",
       "        vertical-align: top;\n",
       "    }\n",
       "\n",
       "    .dataframe thead th {\n",
       "        text-align: right;\n",
       "    }\n",
       "</style>\n",
       "<table border=\"1\" class=\"dataframe\">\n",
       "  <thead>\n",
       "    <tr style=\"text-align: right;\">\n",
       "      <th></th>\n",
       "      <th>book_id</th>\n",
       "      <th>library_id</th>\n",
       "      <th>date_checkout</th>\n",
       "      <th>date_returned</th>\n",
       "      <th>lib_name</th>\n",
       "      <th>lib_addr</th>\n",
       "      <th>lib_city</th>\n",
       "      <th>lib_region</th>\n",
       "      <th>lib_postal_code</th>\n",
       "      <th>title</th>\n",
       "      <th>authors</th>\n",
       "      <th>publisher</th>\n",
       "      <th>publishedDate</th>\n",
       "      <th>categories</th>\n",
       "      <th>price</th>\n",
       "      <th>pages</th>\n",
       "      <th>cus_id</th>\n",
       "      <th>name</th>\n",
       "      <th>street_address</th>\n",
       "      <th>city</th>\n",
       "      <th>state</th>\n",
       "      <th>zipcode</th>\n",
       "      <th>birth_date</th>\n",
       "      <th>gender</th>\n",
       "      <th>education</th>\n",
       "      <th>occupation</th>\n",
       "      <th>returned_within_days</th>\n",
       "      <th>late</th>\n",
       "    </tr>\n",
       "  </thead>\n",
       "  <tbody>\n",
       "    <tr>\n",
       "      <th>2</th>\n",
       "      <td>-xFj0vTLbRIC</td>\n",
       "      <td>zzw-222@5xc-knn-c5z</td>\n",
       "      <td>2018-04-21</td>\n",
       "      <td>2018-05-09</td>\n",
       "      <td>Multnomah County Library Holgate</td>\n",
       "      <td>7905  SE Holgate Blvd</td>\n",
       "      <td>Portland</td>\n",
       "      <td>OR</td>\n",
       "      <td>NaN</td>\n",
       "      <td>Blood Engines</td>\n",
       "      <td>['T.A. Pratt']</td>\n",
       "      <td>Spectra</td>\n",
       "      <td>2007-09-25</td>\n",
       "      <td>['Fiction']</td>\n",
       "      <td>144.5</td>\n",
       "      <td>513</td>\n",
       "      <td>24032e18ff12062ba68766387df2ee99</td>\n",
       "      <td>Linda Wilkes</td>\n",
       "      <td>3504 SE 92nd Ave</td>\n",
       "      <td>Portland</td>\n",
       "      <td>NaN</td>\n",
       "      <td>-97266.0</td>\n",
       "      <td>2005-06-29</td>\n",
       "      <td>female</td>\n",
       "      <td>Graduate Degree</td>\n",
       "      <td>Admin &amp; Support</td>\n",
       "      <td>18</td>\n",
       "      <td>0</td>\n",
       "    </tr>\n",
       "    <tr>\n",
       "      <th>4</th>\n",
       "      <td>-xFj0vTLbRIC</td>\n",
       "      <td>zzw-223@5xc-jv7-ct9</td>\n",
       "      <td>2018-01-15</td>\n",
       "      <td>2018-01-24</td>\n",
       "      <td>Friends OF the multnomah COUNTY Library</td>\n",
       "      <td>522  SW 5th  Ave</td>\n",
       "      <td>NaN</td>\n",
       "      <td>OR</td>\n",
       "      <td>97204</td>\n",
       "      <td>Blood Engines</td>\n",
       "      <td>['T.A. Pratt']</td>\n",
       "      <td>Spectra</td>\n",
       "      <td>2007-09-25</td>\n",
       "      <td>['Fiction']</td>\n",
       "      <td>144.5</td>\n",
       "      <td>513</td>\n",
       "      <td>529979f69bcda5cec760005da7978c11</td>\n",
       "      <td>Shirley Pollock</td>\n",
       "      <td>54 NE 12th Ave</td>\n",
       "      <td>NaN</td>\n",
       "      <td>Oregon</td>\n",
       "      <td>97232.0</td>\n",
       "      <td>2007-11-17</td>\n",
       "      <td>female</td>\n",
       "      <td>Others</td>\n",
       "      <td>Business &amp; Finance</td>\n",
       "      <td>9</td>\n",
       "      <td>0</td>\n",
       "    </tr>\n",
       "  </tbody>\n",
       "</table>\n",
       "</div>"
      ],
      "text/plain": [
       "        book_id           library_id date_checkout date_returned  \\\n",
       "2  -xFj0vTLbRIC  zzw-222@5xc-knn-c5z    2018-04-21    2018-05-09   \n",
       "4  -xFj0vTLbRIC  zzw-223@5xc-jv7-ct9    2018-01-15    2018-01-24   \n",
       "\n",
       "                                  lib_name               lib_addr   lib_city  \\\n",
       "2         Multnomah County Library Holgate  7905  SE Holgate Blvd   Portland   \n",
       "4  Friends OF the multnomah COUNTY Library       522  SW 5th  Ave        NaN   \n",
       "\n",
       "  lib_region lib_postal_code          title         authors publisher  \\\n",
       "2         OR             NaN  Blood Engines  ['T.A. Pratt']   Spectra   \n",
       "4         OR           97204  Blood Engines  ['T.A. Pratt']   Spectra   \n",
       "\n",
       "  publishedDate   categories  price pages                            cus_id  \\\n",
       "2    2007-09-25  ['Fiction']  144.5   513  24032e18ff12062ba68766387df2ee99   \n",
       "4    2007-09-25  ['Fiction']  144.5   513  529979f69bcda5cec760005da7978c11   \n",
       "\n",
       "              name    street_address      city   state   zipcode  birth_date  \\\n",
       "2     Linda Wilkes  3504 SE 92nd Ave  Portland     NaN  -97266.0  2005-06-29   \n",
       "4  Shirley Pollock    54 NE 12th Ave       NaN  Oregon   97232.0  2007-11-17   \n",
       "\n",
       "    gender        education          occupation  returned_within_days  late  \n",
       "2  female   Graduate Degree     Admin & Support                    18     0  \n",
       "4   female           Others  Business & Finance                     9     0  "
      ]
     },
     "execution_count": 620,
     "metadata": {},
     "output_type": "execute_result"
    }
   ],
   "source": [
    "df_final1_cleaned.head(2)"
   ]
  },
  {
   "cell_type": "markdown",
   "id": "perceived-kennedy",
   "metadata": {},
   "source": [
    "Now that we have our clean and complete dateset, let's preprocess our data so that it could be fed in a machine learning model. That is droping redundant data, making sure string values that represent the same thing are in consistent format, numeric values are in the proper data type etc."
   ]
  },
  {
   "cell_type": "code",
   "execution_count": 623,
   "id": "statistical-savannah",
   "metadata": {},
   "outputs": [
    {
     "data": {
      "text/plain": [
       "OR     767\n",
       "or     308\n",
       "OR     178\n",
       " OR     95\n",
       "Name: lib_region, dtype: int64"
      ]
     },
     "execution_count": 623,
     "metadata": {},
     "output_type": "execute_result"
    }
   ],
   "source": [
    "df_final1_cleaned.lib_region.value_counts() # All the same region, we can drop this column"
   ]
  },
  {
   "cell_type": "markdown",
   "id": "incorporate-choice",
   "metadata": {},
   "source": [
    "Some of the columns are simply redundant data for instance, as long as we have the library id, the library name is of no value in our analysis. Let's get rid of the columns with no value here."
   ]
  },
  {
   "cell_type": "code",
   "execution_count": 624,
   "id": "supported-cooperation",
   "metadata": {},
   "outputs": [
    {
     "data": {
      "text/html": [
       "<div>\n",
       "<style scoped>\n",
       "    .dataframe tbody tr th:only-of-type {\n",
       "        vertical-align: middle;\n",
       "    }\n",
       "\n",
       "    .dataframe tbody tr th {\n",
       "        vertical-align: top;\n",
       "    }\n",
       "\n",
       "    .dataframe thead th {\n",
       "        text-align: right;\n",
       "    }\n",
       "</style>\n",
       "<table border=\"1\" class=\"dataframe\">\n",
       "  <thead>\n",
       "    <tr style=\"text-align: right;\">\n",
       "      <th></th>\n",
       "      <th>book_id</th>\n",
       "      <th>library_id</th>\n",
       "      <th>lib_city</th>\n",
       "      <th>lib_postal_code</th>\n",
       "      <th>authors</th>\n",
       "      <th>categories</th>\n",
       "      <th>price</th>\n",
       "      <th>pages</th>\n",
       "      <th>cus_id</th>\n",
       "      <th>city</th>\n",
       "      <th>state</th>\n",
       "      <th>zipcode</th>\n",
       "      <th>birth_date</th>\n",
       "      <th>gender</th>\n",
       "      <th>education</th>\n",
       "      <th>occupation</th>\n",
       "      <th>late</th>\n",
       "    </tr>\n",
       "  </thead>\n",
       "  <tbody>\n",
       "    <tr>\n",
       "      <th>2</th>\n",
       "      <td>-xFj0vTLbRIC</td>\n",
       "      <td>zzw-222@5xc-knn-c5z</td>\n",
       "      <td>Portland</td>\n",
       "      <td>NaN</td>\n",
       "      <td>['T.A. Pratt']</td>\n",
       "      <td>['Fiction']</td>\n",
       "      <td>144.5</td>\n",
       "      <td>513</td>\n",
       "      <td>24032e18ff12062ba68766387df2ee99</td>\n",
       "      <td>Portland</td>\n",
       "      <td>NaN</td>\n",
       "      <td>-97266.0</td>\n",
       "      <td>2005-06-29</td>\n",
       "      <td>female</td>\n",
       "      <td>Graduate Degree</td>\n",
       "      <td>Admin &amp; Support</td>\n",
       "      <td>0</td>\n",
       "    </tr>\n",
       "    <tr>\n",
       "      <th>4</th>\n",
       "      <td>-xFj0vTLbRIC</td>\n",
       "      <td>zzw-223@5xc-jv7-ct9</td>\n",
       "      <td>NaN</td>\n",
       "      <td>97204</td>\n",
       "      <td>['T.A. Pratt']</td>\n",
       "      <td>['Fiction']</td>\n",
       "      <td>144.5</td>\n",
       "      <td>513</td>\n",
       "      <td>529979f69bcda5cec760005da7978c11</td>\n",
       "      <td>NaN</td>\n",
       "      <td>Oregon</td>\n",
       "      <td>97232.0</td>\n",
       "      <td>2007-11-17</td>\n",
       "      <td>female</td>\n",
       "      <td>Others</td>\n",
       "      <td>Business &amp; Finance</td>\n",
       "      <td>0</td>\n",
       "    </tr>\n",
       "    <tr>\n",
       "      <th>5</th>\n",
       "      <td>-xFj0vTLbRIC</td>\n",
       "      <td>226-222@5xc-jxj-7yv</td>\n",
       "      <td>Portland</td>\n",
       "      <td>97214</td>\n",
       "      <td>['T.A. Pratt']</td>\n",
       "      <td>['Fiction']</td>\n",
       "      <td>144.5</td>\n",
       "      <td>513</td>\n",
       "      <td>b0ff7b25ecc4949aed61c0d0f914dfbd</td>\n",
       "      <td>Portland</td>\n",
       "      <td>Oregon</td>\n",
       "      <td>97220.0</td>\n",
       "      <td>2106-12-26</td>\n",
       "      <td>male</td>\n",
       "      <td>College</td>\n",
       "      <td>Blue   Collar</td>\n",
       "      <td>0</td>\n",
       "    </tr>\n",
       "    <tr>\n",
       "      <th>7</th>\n",
       "      <td>-xFj0vTLbRIC</td>\n",
       "      <td>222-222@5xc-jvf-skf</td>\n",
       "      <td>portland</td>\n",
       "      <td>97203</td>\n",
       "      <td>['T.A. Pratt']</td>\n",
       "      <td>['Fiction']</td>\n",
       "      <td>144.5</td>\n",
       "      <td>513</td>\n",
       "      <td>71325ff160af04c414dd03b58774f23a</td>\n",
       "      <td>Portland</td>\n",
       "      <td>Oregon</td>\n",
       "      <td>97203.0</td>\n",
       "      <td>2004-09-24</td>\n",
       "      <td>male</td>\n",
       "      <td>Graduate Degree</td>\n",
       "      <td>Sales</td>\n",
       "      <td>0</td>\n",
       "    </tr>\n",
       "    <tr>\n",
       "      <th>10</th>\n",
       "      <td>7T9-BAAAQBAJ</td>\n",
       "      <td>222-222@5xc-jv5-nt9</td>\n",
       "      <td>Portland</td>\n",
       "      <td>#97217</td>\n",
       "      <td>['Eugene F. Brigham', 'Joel F. Houston']</td>\n",
       "      <td>['Business &amp; Economics']</td>\n",
       "      <td>406.99</td>\n",
       "      <td>774</td>\n",
       "      <td>f8584c280388ca0798e1b635f7afc1b8</td>\n",
       "      <td>Portland</td>\n",
       "      <td>Oregon</td>\n",
       "      <td>97203.0</td>\n",
       "      <td>1974-04-04</td>\n",
       "      <td>NaN</td>\n",
       "      <td>High School</td>\n",
       "      <td>Sales</td>\n",
       "      <td>0</td>\n",
       "    </tr>\n",
       "  </tbody>\n",
       "</table>\n",
       "</div>"
      ],
      "text/plain": [
       "         book_id           library_id   lib_city lib_postal_code  \\\n",
       "2   -xFj0vTLbRIC  zzw-222@5xc-knn-c5z   Portland             NaN   \n",
       "4   -xFj0vTLbRIC  zzw-223@5xc-jv7-ct9        NaN           97204   \n",
       "5   -xFj0vTLbRIC  226-222@5xc-jxj-7yv   Portland           97214   \n",
       "7   -xFj0vTLbRIC  222-222@5xc-jvf-skf   portland           97203   \n",
       "10  7T9-BAAAQBAJ  222-222@5xc-jv5-nt9  Portland           #97217   \n",
       "\n",
       "                                     authors                categories  \\\n",
       "2                             ['T.A. Pratt']               ['Fiction']   \n",
       "4                             ['T.A. Pratt']               ['Fiction']   \n",
       "5                             ['T.A. Pratt']               ['Fiction']   \n",
       "7                             ['T.A. Pratt']               ['Fiction']   \n",
       "10  ['Eugene F. Brigham', 'Joel F. Houston']  ['Business & Economics']   \n",
       "\n",
       "     price pages                            cus_id      city   state  \\\n",
       "2    144.5   513  24032e18ff12062ba68766387df2ee99  Portland     NaN   \n",
       "4    144.5   513  529979f69bcda5cec760005da7978c11       NaN  Oregon   \n",
       "5    144.5   513  b0ff7b25ecc4949aed61c0d0f914dfbd  Portland  Oregon   \n",
       "7    144.5   513  71325ff160af04c414dd03b58774f23a  Portland  Oregon   \n",
       "10  406.99   774  f8584c280388ca0798e1b635f7afc1b8  Portland  Oregon   \n",
       "\n",
       "     zipcode  birth_date   gender        education          occupation  late  \n",
       "2   -97266.0  2005-06-29  female   Graduate Degree     Admin & Support     0  \n",
       "4    97232.0  2007-11-17   female           Others  Business & Finance     0  \n",
       "5    97220.0  2106-12-26     male          College       Blue   Collar     0  \n",
       "7    97203.0  2004-09-24     male  Graduate Degree               Sales     0  \n",
       "10   97203.0  1974-04-04      NaN      High School               Sales     0  "
      ]
     },
     "execution_count": 624,
     "metadata": {},
     "output_type": "execute_result"
    }
   ],
   "source": [
    "df_final1_cleaned1 = df_final1_cleaned.drop(['lib_name','lib_addr', 'lib_region', 'title', 'publishedDate',\n",
    "                                             'name','street_address', 'returned_within_days','date_checkout',\n",
    "                                            'date_returned','publisher'], axis=1)\n",
    "df_final1_cleaned1.head()"
   ]
  },
  {
   "cell_type": "code",
   "execution_count": 626,
   "id": "direct-connecticut",
   "metadata": {},
   "outputs": [
    {
     "data": {
      "text/plain": [
       "Portland         1202\n",
       "PORTLAND           42\n",
       " Portland          35\n",
       "Portland           31\n",
       "Vancouver          24\n",
       "Lake Oswego        20\n",
       "Happy Valley       19\n",
       "Beaverton          17\n",
       "portland           11\n",
       "West Linn           5\n",
       "Tualatin            5\n",
       "Oregon City         5\n",
       " Vancouver          3\n",
       "Gresham             2\n",
       "Clackamas           2\n",
       "Vancouver           1\n",
       " Beaverton          1\n",
       "HAPPY Valley        1\n",
       "Lake   Oswego       1\n",
       "Gladstone           1\n",
       "Happy Valley        1\n",
       "Happy  Valley       1\n",
       "BEAVERTON           1\n",
       "vancouver           1\n",
       "Damascus            1\n",
       "VANCOUVER           1\n",
       "LAKE OSWEGO         1\n",
       "Lake OSWEGO         1\n",
       "Name: city, dtype: int64"
      ]
     },
     "execution_count": 626,
     "metadata": {},
     "output_type": "execute_result"
    }
   ],
   "source": [
    "df_final1_cleaned1.city.value_counts() "
   ]
  },
  {
   "cell_type": "markdown",
   "id": "reliable-latino",
   "metadata": {},
   "source": [
    "As we see here, the data entry has been very inconsistent. For instance, in the city column, Portland has been entered in four different ways. Before any analysis we need to make sure we have data in consistent formats across all columns."
   ]
  },
  {
   "cell_type": "code",
   "execution_count": 627,
   "id": "harmful-variety",
   "metadata": {},
   "outputs": [],
   "source": [
    "# Function to get string names in consistent format\n",
    "def consistentString(s):\n",
    "    return str(s).strip().lower()"
   ]
  },
  {
   "cell_type": "code",
   "execution_count": 628,
   "id": "vietnamese-coffee",
   "metadata": {},
   "outputs": [],
   "source": [
    "# Putting cities and states with the same name in a consistent format\n",
    "df_final1_cleaned1.city = list(map(lambda x: consistentString(x), df_final1_cleaned1.city))\n",
    "df_final1_cleaned1.state = list(map(lambda x: consistentString(x), df_final1_cleaned1.state))\n",
    "df_final1_cleaned1.lib_city = list(map(lambda x: consistentString(x), df_final1_cleaned1.lib_city))"
   ]
  },
  {
   "cell_type": "code",
   "execution_count": 629,
   "id": "spoken-garage",
   "metadata": {},
   "outputs": [],
   "source": [
    "# Function to get date objects in datetime format\n",
    "from datetime import datetime\n",
    "def get_date(s):\n",
    "    try:\n",
    "        date_re = re.compile('[0-9]+')\n",
    "        s = str(s).strip()\n",
    "        s =  \"\".join(date_re.findall(s))\n",
    "        return datetime.strptime(s, '%Y%m%d')\n",
    "    except:\n",
    "        pass\n",
    "\n",
    "# Function to get epoch time to be used in regression model\n",
    "def to_epoch(series_of_times):\n",
    "    def _(x):\n",
    "        try:\n",
    "            return float(x.timestamp())\n",
    "        except:\n",
    "            return 0\n",
    "    return series_of_times.apply(lambda x: _(x)).values.reshape(-1,1)"
   ]
  },
  {
   "cell_type": "code",
   "execution_count": 630,
   "id": "controlling-science",
   "metadata": {},
   "outputs": [],
   "source": [
    "# Convertin birthdate columns to datetimeobject and then to epoch time for further analysis\n",
    "df_final1_cleaned1.birth_date = list(map(lambda x: get_date(x), df_final1_cleaned1.birth_date))"
   ]
  },
  {
   "cell_type": "code",
   "execution_count": 631,
   "id": "unable-canberra",
   "metadata": {},
   "outputs": [],
   "source": [
    "df_final1_cleaned1.birth_date = to_epoch(df_final1_cleaned1.birth_date)"
   ]
  },
  {
   "cell_type": "code",
   "execution_count": 633,
   "id": "naughty-stake",
   "metadata": {},
   "outputs": [
    {
     "data": {
      "text/plain": [
       "2     1.120003e+09\n",
       "4     1.195258e+09\n",
       "5     4.322765e+09\n",
       "7     1.095984e+09\n",
       "10    1.342656e+08\n",
       "Name: birth_date, dtype: float64"
      ]
     },
     "execution_count": 633,
     "metadata": {},
     "output_type": "execute_result"
    }
   ],
   "source": [
    "df_final1_cleaned1.birth_date[:5]"
   ]
  },
  {
   "cell_type": "code",
   "execution_count": 634,
   "id": "mechanical-philip",
   "metadata": {},
   "outputs": [],
   "source": [
    "def get_price(s):\n",
    "    try:\n",
    "        return re.findall(\"[-+]?\\d*\\.\\d+|\\d+\",str(s))[0]\n",
    "    except:\n",
    "        return 0"
   ]
  },
  {
   "cell_type": "code",
   "execution_count": null,
   "id": "modified-japanese",
   "metadata": {},
   "outputs": [],
   "source": [
    "# Converting numeric values to numeric data types to be fed in the ML model\n",
    "df_final1_cleaned1.pages = list(map(lambda x: int(re.compile('[0-9]+').findall(str(x))[0]),\n",
    "                                    df_final1_cleaned1.pages))\n",
    "\n",
    "df_final1_cleaned1.price = list(map(lambda x: float(get_price(x)), \n",
    "         df_final1_cleaned1.price))"
   ]
  },
  {
   "cell_type": "markdown",
   "id": "voluntary-advice",
   "metadata": {},
   "source": [
    "Authors and categories features contain lists of strings which need be engineered into new features representing all authors and all categories. For the sake of simplicity, let's drop these columns for now and proceed to modeling our data and see how good of a model we get."
   ]
  },
  {
   "cell_type": "code",
   "execution_count": 640,
   "id": "advised-insertion",
   "metadata": {},
   "outputs": [],
   "source": [
    "df_final1_cleaned1.drop(['authors', 'categories'], axis=1, inplace=True)"
   ]
  },
  {
   "cell_type": "markdown",
   "id": "equivalent-trial",
   "metadata": {},
   "source": [
    "We have got some missing values in our data. Since they are all in categorical columns, I will treat missing values (nan) as a separate category by converting them to string data type."
   ]
  },
  {
   "cell_type": "code",
   "execution_count": 638,
   "id": "aware-vaccine",
   "metadata": {},
   "outputs": [],
   "source": [
    "categorical_columns = ['book_id','library_id','lib_city','lib_postal_code',\n",
    "                       'cus_id','city','state','zipcode','gender','education','occupation']\n",
    "for x in categorical_columns:\n",
    "    df_final1_cleaned1[x] = list(map(lambda y:str(y), df_final1_cleaned1[x]))"
   ]
  },
  {
   "cell_type": "code",
   "execution_count": 699,
   "id": "selected-receiver",
   "metadata": {},
   "outputs": [
    {
     "name": "stdout",
     "output_type": "stream",
     "text": [
      "<class 'pandas.core.frame.DataFrame'>\n",
      "Int64Index: 1509 entries, 2 to 1999\n",
      "Data columns (total 15 columns):\n",
      " #   Column           Non-Null Count  Dtype  \n",
      "---  ------           --------------  -----  \n",
      " 0   book_id          1509 non-null   object \n",
      " 1   library_id       1509 non-null   object \n",
      " 2   lib_city         1509 non-null   object \n",
      " 3   lib_postal_code  1509 non-null   object \n",
      " 4   price            1509 non-null   float64\n",
      " 5   pages            1509 non-null   int64  \n",
      " 6   cus_id           1509 non-null   object \n",
      " 7   city             1509 non-null   object \n",
      " 8   state            1509 non-null   object \n",
      " 9   zipcode          1509 non-null   object \n",
      " 10  birth_date       1509 non-null   float64\n",
      " 11  gender           1509 non-null   object \n",
      " 12  education        1509 non-null   object \n",
      " 13  occupation       1509 non-null   object \n",
      " 14  late             1509 non-null   int64  \n",
      "dtypes: float64(2), int64(2), object(11)\n",
      "memory usage: 188.6+ KB\n"
     ]
    }
   ],
   "source": [
    "df_final1_cleaned1.info()"
   ]
  },
  {
   "cell_type": "markdown",
   "id": "different-realtor",
   "metadata": {},
   "source": [
    "And no more missing values!"
   ]
  },
  {
   "cell_type": "markdown",
   "id": "chicken-emission",
   "metadata": {},
   "source": [
    "## Feature Selection"
   ]
  },
  {
   "cell_type": "markdown",
   "id": "structural-circular",
   "metadata": {},
   "source": [
    "Let's see what the correlation between numerical values look like."
   ]
  },
  {
   "cell_type": "code",
   "execution_count": 644,
   "id": "athletic-broad",
   "metadata": {},
   "outputs": [
    {
     "data": {
      "text/html": [
       "<style  type=\"text/css\" >\n",
       "#T_0aa7b_row0_col0,#T_0aa7b_row1_col1,#T_0aa7b_row2_col2,#T_0aa7b_row3_col3{\n",
       "            background-color:  #b40426;\n",
       "            color:  #f1f1f1;\n",
       "        }#T_0aa7b_row0_col1{\n",
       "            background-color:  #f6a283;\n",
       "            color:  #000000;\n",
       "        }#T_0aa7b_row0_col2{\n",
       "            background-color:  #4358cb;\n",
       "            color:  #f1f1f1;\n",
       "        }#T_0aa7b_row0_col3{\n",
       "            background-color:  #6b8df0;\n",
       "            color:  #000000;\n",
       "        }#T_0aa7b_row1_col0{\n",
       "            background-color:  #f5a081;\n",
       "            color:  #000000;\n",
       "        }#T_0aa7b_row1_col2{\n",
       "            background-color:  #4a63d3;\n",
       "            color:  #f1f1f1;\n",
       "        }#T_0aa7b_row1_col3{\n",
       "            background-color:  #7da0f9;\n",
       "            color:  #000000;\n",
       "        }#T_0aa7b_row2_col0,#T_0aa7b_row2_col1,#T_0aa7b_row2_col3,#T_0aa7b_row3_col2{\n",
       "            background-color:  #3b4cc0;\n",
       "            color:  #f1f1f1;\n",
       "        }#T_0aa7b_row3_col0{\n",
       "            background-color:  #6282ea;\n",
       "            color:  #000000;\n",
       "        }#T_0aa7b_row3_col1{\n",
       "            background-color:  #6e90f2;\n",
       "            color:  #000000;\n",
       "        }</style><table id=\"T_0aa7b_\" ><thead>    <tr>        <th class=\"blank level0\" ></th>        <th class=\"col_heading level0 col0\" >price</th>        <th class=\"col_heading level0 col1\" >pages</th>        <th class=\"col_heading level0 col2\" >birth_date</th>        <th class=\"col_heading level0 col3\" >late</th>    </tr></thead><tbody>\n",
       "                <tr>\n",
       "                        <th id=\"T_0aa7b_level0_row0\" class=\"row_heading level0 row0\" >price</th>\n",
       "                        <td id=\"T_0aa7b_row0_col0\" class=\"data row0 col0\" >1.000000</td>\n",
       "                        <td id=\"T_0aa7b_row0_col1\" class=\"data row0 col1\" >0.737329</td>\n",
       "                        <td id=\"T_0aa7b_row0_col2\" class=\"data row0 col2\" >0.014043</td>\n",
       "                        <td id=\"T_0aa7b_row0_col3\" class=\"data row0 col3\" >0.138922</td>\n",
       "            </tr>\n",
       "            <tr>\n",
       "                        <th id=\"T_0aa7b_level0_row1\" class=\"row_heading level0 row1\" >pages</th>\n",
       "                        <td id=\"T_0aa7b_row1_col0\" class=\"data row1 col0\" >0.737329</td>\n",
       "                        <td id=\"T_0aa7b_row1_col1\" class=\"data row1 col1\" >1.000000</td>\n",
       "                        <td id=\"T_0aa7b_row1_col2\" class=\"data row1 col2\" >0.034661</td>\n",
       "                        <td id=\"T_0aa7b_row1_col3\" class=\"data row1 col3\" >0.190609</td>\n",
       "            </tr>\n",
       "            <tr>\n",
       "                        <th id=\"T_0aa7b_level0_row2\" class=\"row_heading level0 row2\" >birth_date</th>\n",
       "                        <td id=\"T_0aa7b_row2_col0\" class=\"data row2 col0\" >0.014043</td>\n",
       "                        <td id=\"T_0aa7b_row2_col1\" class=\"data row2 col1\" >0.034661</td>\n",
       "                        <td id=\"T_0aa7b_row2_col2\" class=\"data row2 col2\" >1.000000</td>\n",
       "                        <td id=\"T_0aa7b_row2_col3\" class=\"data row2 col3\" >-0.017420</td>\n",
       "            </tr>\n",
       "            <tr>\n",
       "                        <th id=\"T_0aa7b_level0_row3\" class=\"row_heading level0 row3\" >late</th>\n",
       "                        <td id=\"T_0aa7b_row3_col0\" class=\"data row3 col0\" >0.138922</td>\n",
       "                        <td id=\"T_0aa7b_row3_col1\" class=\"data row3 col1\" >0.190609</td>\n",
       "                        <td id=\"T_0aa7b_row3_col2\" class=\"data row3 col2\" >-0.017420</td>\n",
       "                        <td id=\"T_0aa7b_row3_col3\" class=\"data row3 col3\" >1.000000</td>\n",
       "            </tr>\n",
       "    </tbody></table>"
      ],
      "text/plain": [
       "<pandas.io.formats.style.Styler at 0x1eacb6d70d0>"
      ]
     },
     "execution_count": 644,
     "metadata": {},
     "output_type": "execute_result"
    }
   ],
   "source": [
    "corr = df_final1_cleaned1.corr()\n",
    "corr.style.background_gradient(cmap='coolwarm')"
   ]
  },
  {
   "cell_type": "markdown",
   "id": "saved-stationery",
   "metadata": {},
   "source": [
    "Our target variable (late) is mostly correlated with price and after that with pages of the book which means the higher the price and the number of pages of a book the higher the probability for that book being returned late (or not returned at all). It is also slightly negatively correlated with ages of customers which means the younger the customer the higher probability of them having late returns. "
   ]
  },
  {
   "cell_type": "markdown",
   "id": "olympic-arbitration",
   "metadata": {},
   "source": [
    "We also need analyze relationship between target variable and categorical variables to have better jsudgment of what factors contribute to late returns the most.For that, [machinelearningmastery.com](https://machinelearningmastery.com/feature-selection-with-categorical-data/) has a introduced a good method: Chi-squared statistic. We can draw  barchart that illustrates feature importance for all features including categorical. Below code was borrowed from machinelearningmastery.com and appropriated to our scienario."
   ]
  },
  {
   "cell_type": "code",
   "execution_count": 647,
   "id": "acceptable-bottle",
   "metadata": {},
   "outputs": [
    {
     "name": "stdout",
     "output_type": "stream",
     "text": [
      "Feature 0: 178.613283\n",
      "Feature 1: 2.207893\n",
      "Feature 2: 0.286144\n",
      "Feature 3: 0.459709\n",
      "Feature 4: 598.491112\n",
      "Feature 5: 1396.571856\n",
      "Feature 6: 486.861083\n",
      "Feature 7: 0.588135\n",
      "Feature 8: 0.447475\n",
      "Feature 9: 28.252844\n",
      "Feature 10: 42.992641\n",
      "Feature 11: 0.620018\n",
      "Feature 12: 0.271073\n",
      "Feature 13: 1.500277\n"
     ]
    },
    {
     "data": {
      "image/png": "[encoded data removed]",
      "text/plain": [
       "<Figure size 432x288 with 1 Axes>"
      ]
     },
     "metadata": {
      "needs_background": "light"
     },
     "output_type": "display_data"
    }
   ],
   "source": [
    "# example of chi squared feature selection for categorical data\n",
    "from pandas import read_csv\n",
    "from sklearn.model_selection import train_test_split\n",
    "from sklearn.preprocessing import LabelEncoder\n",
    "from sklearn.preprocessing import OrdinalEncoder\n",
    "from sklearn.feature_selection import SelectKBest\n",
    "from sklearn.feature_selection import chi2\n",
    "from matplotlib import pyplot\n",
    "\n",
    "# prepare input data\n",
    "def prepare_inputs(X_train, X_test):\n",
    "    oe = OrdinalEncoder(handle_unknown='ignore')\n",
    "    oe.fit(X_train)\n",
    "    X_train_enc = oe.transform(X_train)\n",
    "    X_test_enc = oe.transform(X_test)\n",
    "    return X_train_enc, X_test_enc\n",
    "\n",
    "# prepare target\n",
    "def prepare_targets(y_train, y_test):\n",
    "    le = LabelEncoder()\n",
    "    le.fit(y_train)\n",
    "    y_train_enc = le.transform(y_train)\n",
    "    y_test_enc = le.transform(y_test)\n",
    "    return y_train_enc, y_test_enc\n",
    "\n",
    "# feature selection\n",
    "def select_features(X_train, y_train, X_test):\n",
    "    fs = SelectKBest(score_func=chi2, k='all')\n",
    "    fs.fit(X_train, y_train)\n",
    "    X_train_fs = fs.transform(X_train)\n",
    "    X_test_fs = fs.transform(X_test)\n",
    "    return X_train_fs, X_test_fs, fs\n",
    "\n",
    "# split into train and test sets\n",
    "y = df_final1_cleaned1['late']\n",
    "X = df_final1_cleaned1.drop('late', axis=1)\n",
    "X_train, X_test, y_train, y_test = train_test_split(X, y, test_size=0.33, random_state=1)\n",
    "# prepare input data\n",
    "X_train_enc, X_test_enc = prepare_inputs(X_train, X_test)\n",
    "# prepare output data\n",
    "y_train_enc, y_test_enc = prepare_targets(y_train, y_test)\n",
    "# feature selection\n",
    "X_train_fs, X_test_fs, fs = select_features(X_train_enc, y_train_enc, X_test_enc)\n",
    "# what are scores for the features\n",
    "for i in range(len(fs.scores_)):\n",
    "    print('Feature %d: %f' % (i, fs.scores_[i]))\n",
    "# plot the scores\n",
    "pyplot.bar([i for i in range(len(fs.scores_))], fs.scores_)\n",
    "pyplot.show()"
   ]
  },
  {
   "cell_type": "code",
   "execution_count": 650,
   "id": "stone-produce",
   "metadata": {},
   "outputs": [
    {
     "data": {
      "text/plain": [
       "Index(['book_id', 'library_id', 'lib_city', 'lib_postal_code', 'price',\n",
       "       'pages', 'cus_id', 'city', 'state', 'zipcode', 'birth_date', 'gender',\n",
       "       'education', 'occupation'],\n",
       "      dtype='object')"
      ]
     },
     "execution_count": 650,
     "metadata": {},
     "output_type": "execute_result"
    }
   ],
   "source": [
    "X_train.columns"
   ]
  },
  {
   "cell_type": "markdown",
   "id": "danish-venue",
   "metadata": {},
   "source": [
    "Above analysis and plot show that the most relevant features to our target variable are price, pages, and cus_id. That means factors that have a strong connection to late returns are price and pages of the book as well as the individual customer. Variables book_id, customer birth_date and zipcode also have some influence on the late returns."
   ]
  },
  {
   "cell_type": "markdown",
   "id": "smoking-italic",
   "metadata": {},
   "source": [
    "Before jumping to modeling though, we need to take care of class imbalance. I will use sklearn's [SMOTEN](https://imbalanced-learn.org/stable/references/generated/imblearn.over_sampling.SMOTENC.html#imblearn.over_sampling.SMOTENC) for upsampling which handles both categorical and numeric columns."
   ]
  },
  {
   "cell_type": "code",
   "execution_count": 701,
   "id": "brazilian-separation",
   "metadata": {},
   "outputs": [],
   "source": [
    "y =  df_final1_cleaned1['late']\n",
    "X = df_final1_cleaned1.drop('late', axis=1)"
   ]
  },
  {
   "cell_type": "code",
   "execution_count": 702,
   "id": "southeast-sterling",
   "metadata": {},
   "outputs": [
    {
     "data": {
      "text/html": [
       "<div>\n",
       "<style scoped>\n",
       "    .dataframe tbody tr th:only-of-type {\n",
       "        vertical-align: middle;\n",
       "    }\n",
       "\n",
       "    .dataframe tbody tr th {\n",
       "        vertical-align: top;\n",
       "    }\n",
       "\n",
       "    .dataframe thead th {\n",
       "        text-align: right;\n",
       "    }\n",
       "</style>\n",
       "<table border=\"1\" class=\"dataframe\">\n",
       "  <thead>\n",
       "    <tr style=\"text-align: right;\">\n",
       "      <th></th>\n",
       "      <th>book_id</th>\n",
       "      <th>library_id</th>\n",
       "      <th>lib_city</th>\n",
       "      <th>lib_postal_code</th>\n",
       "      <th>price</th>\n",
       "      <th>pages</th>\n",
       "      <th>cus_id</th>\n",
       "      <th>city</th>\n",
       "      <th>state</th>\n",
       "      <th>zipcode</th>\n",
       "      <th>birth_date</th>\n",
       "      <th>gender</th>\n",
       "      <th>education</th>\n",
       "      <th>occupation</th>\n",
       "    </tr>\n",
       "  </thead>\n",
       "  <tbody>\n",
       "    <tr>\n",
       "      <th>2</th>\n",
       "      <td>-xFj0vTLbRIC</td>\n",
       "      <td>zzw-222@5xc-knn-c5z</td>\n",
       "      <td>portland</td>\n",
       "      <td>nan</td>\n",
       "      <td>144.50</td>\n",
       "      <td>513</td>\n",
       "      <td>24032e18ff12062ba68766387df2ee99</td>\n",
       "      <td>portland</td>\n",
       "      <td>nan</td>\n",
       "      <td>-97266.0</td>\n",
       "      <td>1.120003e+09</td>\n",
       "      <td>female</td>\n",
       "      <td>Graduate Degree</td>\n",
       "      <td>Admin &amp; Support</td>\n",
       "    </tr>\n",
       "    <tr>\n",
       "      <th>4</th>\n",
       "      <td>-xFj0vTLbRIC</td>\n",
       "      <td>zzw-223@5xc-jv7-ct9</td>\n",
       "      <td>nan</td>\n",
       "      <td>97204</td>\n",
       "      <td>144.50</td>\n",
       "      <td>513</td>\n",
       "      <td>529979f69bcda5cec760005da7978c11</td>\n",
       "      <td>nan</td>\n",
       "      <td>oregon</td>\n",
       "      <td>97232.0</td>\n",
       "      <td>1.195258e+09</td>\n",
       "      <td>female</td>\n",
       "      <td>Others</td>\n",
       "      <td>Business &amp; Finance</td>\n",
       "    </tr>\n",
       "    <tr>\n",
       "      <th>5</th>\n",
       "      <td>-xFj0vTLbRIC</td>\n",
       "      <td>226-222@5xc-jxj-7yv</td>\n",
       "      <td>portland</td>\n",
       "      <td>97214</td>\n",
       "      <td>144.50</td>\n",
       "      <td>513</td>\n",
       "      <td>b0ff7b25ecc4949aed61c0d0f914dfbd</td>\n",
       "      <td>portland</td>\n",
       "      <td>oregon</td>\n",
       "      <td>97220.0</td>\n",
       "      <td>4.322765e+09</td>\n",
       "      <td>male</td>\n",
       "      <td>College</td>\n",
       "      <td>Blue   Collar</td>\n",
       "    </tr>\n",
       "    <tr>\n",
       "      <th>7</th>\n",
       "      <td>-xFj0vTLbRIC</td>\n",
       "      <td>222-222@5xc-jvf-skf</td>\n",
       "      <td>portland</td>\n",
       "      <td>97203</td>\n",
       "      <td>144.50</td>\n",
       "      <td>513</td>\n",
       "      <td>71325ff160af04c414dd03b58774f23a</td>\n",
       "      <td>portland</td>\n",
       "      <td>oregon</td>\n",
       "      <td>97203.0</td>\n",
       "      <td>1.095984e+09</td>\n",
       "      <td>male</td>\n",
       "      <td>Graduate Degree</td>\n",
       "      <td>Sales</td>\n",
       "    </tr>\n",
       "    <tr>\n",
       "      <th>10</th>\n",
       "      <td>7T9-BAAAQBAJ</td>\n",
       "      <td>222-222@5xc-jv5-nt9</td>\n",
       "      <td>portland</td>\n",
       "      <td>#97217</td>\n",
       "      <td>406.99</td>\n",
       "      <td>774</td>\n",
       "      <td>f8584c280388ca0798e1b635f7afc1b8</td>\n",
       "      <td>portland</td>\n",
       "      <td>oregon</td>\n",
       "      <td>97203.0</td>\n",
       "      <td>1.342656e+08</td>\n",
       "      <td>nan</td>\n",
       "      <td>High School</td>\n",
       "      <td>Sales</td>\n",
       "    </tr>\n",
       "  </tbody>\n",
       "</table>\n",
       "</div>"
      ],
      "text/plain": [
       "         book_id           library_id  lib_city lib_postal_code   price  \\\n",
       "2   -xFj0vTLbRIC  zzw-222@5xc-knn-c5z  portland             nan  144.50   \n",
       "4   -xFj0vTLbRIC  zzw-223@5xc-jv7-ct9       nan           97204  144.50   \n",
       "5   -xFj0vTLbRIC  226-222@5xc-jxj-7yv  portland           97214  144.50   \n",
       "7   -xFj0vTLbRIC  222-222@5xc-jvf-skf  portland           97203  144.50   \n",
       "10  7T9-BAAAQBAJ  222-222@5xc-jv5-nt9  portland          #97217  406.99   \n",
       "\n",
       "    pages                            cus_id      city   state   zipcode  \\\n",
       "2     513  24032e18ff12062ba68766387df2ee99  portland     nan  -97266.0   \n",
       "4     513  529979f69bcda5cec760005da7978c11       nan  oregon   97232.0   \n",
       "5     513  b0ff7b25ecc4949aed61c0d0f914dfbd  portland  oregon   97220.0   \n",
       "7     513  71325ff160af04c414dd03b58774f23a  portland  oregon   97203.0   \n",
       "10    774  f8584c280388ca0798e1b635f7afc1b8  portland  oregon   97203.0   \n",
       "\n",
       "      birth_date   gender        education          occupation  \n",
       "2   1.120003e+09  female   Graduate Degree     Admin & Support  \n",
       "4   1.195258e+09   female           Others  Business & Finance  \n",
       "5   4.322765e+09     male          College       Blue   Collar  \n",
       "7   1.095984e+09     male  Graduate Degree               Sales  \n",
       "10  1.342656e+08      nan      High School               Sales  "
      ]
     },
     "execution_count": 702,
     "metadata": {},
     "output_type": "execute_result"
    }
   ],
   "source": [
    "X.head()"
   ]
  },
  {
   "cell_type": "markdown",
   "id": "subsequent-silence",
   "metadata": {},
   "source": [
    "## Upsampling the minority class"
   ]
  },
  {
   "cell_type": "code",
   "execution_count": 703,
   "id": "aerial-pepper",
   "metadata": {},
   "outputs": [
    {
     "name": "stdout",
     "output_type": "stream",
     "text": [
      "[(0, 1319), (1, 1319)]\n",
      "           book_id           library_id  lib_city lib_postal_code       price  \\\n",
      "2633  _L9IAAAAYAAJ  222-222@5xc-jv5-nt9  portland          #97217  404.161159   \n",
      "2634  DlN0CAAAQBAJ  zzw-222@5xc-jv4-789  portland          97212   220.019103   \n",
      "2635  bz87AQAAMAAJ  222-222@5xc-jvf-skf  portland             nan  394.023068   \n",
      "2636  SovM2UsP7nAC  22c-222@5xc-jwj-pvz  portland             nan  357.353422   \n",
      "2637  kTfWdFgNUT0C  zzw-223@5xc-jv7-ct9       nan          97212-  327.493217   \n",
      "\n",
      "      pages                            cus_id          city   state  zipcode  \\\n",
      "2633    611  930bbca06d4a32dd5584a06b81eb3592     vancouver  oregon  97008.0   \n",
      "2634    388  4b89ea6302c5bdfd374f0055f255ba48  happy valley  oregon  97086.0   \n",
      "2635    714  adec8842e8d5a04bc4b5dab4fe957a95      portland  oregon  97233.0   \n",
      "2636    723  0a7ffa18ed9f3eabe92329de44ee97cb      portland  oregon  97034.0   \n",
      "2637    766  60a31afe364a72ec766348ff7f1a8271      portland  oregon  97218.0   \n",
      "\n",
      "        birth_date  gender    education          occupation  \n",
      "2633  6.271971e+08    male      College                Tech  \n",
      "2634 -8.056817e+07  female      College  Education & Health  \n",
      "2635  3.740492e+08  female       Others         Blue Collar  \n",
      "2636  9.742935e+08    male  High School               Sales  \n",
      "2637  3.258773e+08  female       Others               Sales  \n"
     ]
    }
   ],
   "source": [
    "from imblearn.over_sampling import SMOTENC\n",
    "from collections import Counter\n",
    "smote_nc = SMOTENC(categorical_features=[0,1,2,3,6,7,8,9,11,12,13], random_state=0)\n",
    "X_resampled, y_resampled = smote_nc.fit_resample(X, y)\n",
    "print(sorted(Counter(y_resampled).items()))\n",
    "print(X_resampled[-5:])"
   ]
  },
  {
   "cell_type": "code",
   "execution_count": 704,
   "id": "objective-quantity",
   "metadata": {},
   "outputs": [
    {
     "data": {
      "text/html": [
       "<div>\n",
       "<style scoped>\n",
       "    .dataframe tbody tr th:only-of-type {\n",
       "        vertical-align: middle;\n",
       "    }\n",
       "\n",
       "    .dataframe tbody tr th {\n",
       "        vertical-align: top;\n",
       "    }\n",
       "\n",
       "    .dataframe thead th {\n",
       "        text-align: right;\n",
       "    }\n",
       "</style>\n",
       "<table border=\"1\" class=\"dataframe\">\n",
       "  <thead>\n",
       "    <tr style=\"text-align: right;\">\n",
       "      <th></th>\n",
       "      <th>book_id</th>\n",
       "      <th>library_id</th>\n",
       "      <th>lib_city</th>\n",
       "      <th>lib_postal_code</th>\n",
       "      <th>price</th>\n",
       "      <th>pages</th>\n",
       "      <th>cus_id</th>\n",
       "      <th>city</th>\n",
       "      <th>state</th>\n",
       "      <th>zipcode</th>\n",
       "      <th>birth_date</th>\n",
       "      <th>gender</th>\n",
       "      <th>education</th>\n",
       "      <th>occupation</th>\n",
       "    </tr>\n",
       "  </thead>\n",
       "  <tbody>\n",
       "    <tr>\n",
       "      <th>0</th>\n",
       "      <td>-xFj0vTLbRIC</td>\n",
       "      <td>zzw-222@5xc-knn-c5z</td>\n",
       "      <td>portland</td>\n",
       "      <td>nan</td>\n",
       "      <td>144.50</td>\n",
       "      <td>513</td>\n",
       "      <td>24032e18ff12062ba68766387df2ee99</td>\n",
       "      <td>portland</td>\n",
       "      <td>nan</td>\n",
       "      <td>-97266.0</td>\n",
       "      <td>1.120003e+09</td>\n",
       "      <td>female</td>\n",
       "      <td>Graduate Degree</td>\n",
       "      <td>Admin &amp; Support</td>\n",
       "    </tr>\n",
       "    <tr>\n",
       "      <th>1</th>\n",
       "      <td>-xFj0vTLbRIC</td>\n",
       "      <td>zzw-223@5xc-jv7-ct9</td>\n",
       "      <td>nan</td>\n",
       "      <td>97204</td>\n",
       "      <td>144.50</td>\n",
       "      <td>513</td>\n",
       "      <td>529979f69bcda5cec760005da7978c11</td>\n",
       "      <td>nan</td>\n",
       "      <td>oregon</td>\n",
       "      <td>97232.0</td>\n",
       "      <td>1.195258e+09</td>\n",
       "      <td>female</td>\n",
       "      <td>Others</td>\n",
       "      <td>Business &amp; Finance</td>\n",
       "    </tr>\n",
       "    <tr>\n",
       "      <th>2</th>\n",
       "      <td>-xFj0vTLbRIC</td>\n",
       "      <td>226-222@5xc-jxj-7yv</td>\n",
       "      <td>portland</td>\n",
       "      <td>97214</td>\n",
       "      <td>144.50</td>\n",
       "      <td>513</td>\n",
       "      <td>b0ff7b25ecc4949aed61c0d0f914dfbd</td>\n",
       "      <td>portland</td>\n",
       "      <td>oregon</td>\n",
       "      <td>97220.0</td>\n",
       "      <td>4.322765e+09</td>\n",
       "      <td>male</td>\n",
       "      <td>College</td>\n",
       "      <td>Blue   Collar</td>\n",
       "    </tr>\n",
       "    <tr>\n",
       "      <th>3</th>\n",
       "      <td>-xFj0vTLbRIC</td>\n",
       "      <td>222-222@5xc-jvf-skf</td>\n",
       "      <td>portland</td>\n",
       "      <td>97203</td>\n",
       "      <td>144.50</td>\n",
       "      <td>513</td>\n",
       "      <td>71325ff160af04c414dd03b58774f23a</td>\n",
       "      <td>portland</td>\n",
       "      <td>oregon</td>\n",
       "      <td>97203.0</td>\n",
       "      <td>1.095984e+09</td>\n",
       "      <td>male</td>\n",
       "      <td>Graduate Degree</td>\n",
       "      <td>Sales</td>\n",
       "    </tr>\n",
       "    <tr>\n",
       "      <th>4</th>\n",
       "      <td>7T9-BAAAQBAJ</td>\n",
       "      <td>222-222@5xc-jv5-nt9</td>\n",
       "      <td>portland</td>\n",
       "      <td>#97217</td>\n",
       "      <td>406.99</td>\n",
       "      <td>774</td>\n",
       "      <td>f8584c280388ca0798e1b635f7afc1b8</td>\n",
       "      <td>portland</td>\n",
       "      <td>oregon</td>\n",
       "      <td>97203.0</td>\n",
       "      <td>1.342656e+08</td>\n",
       "      <td>nan</td>\n",
       "      <td>High School</td>\n",
       "      <td>Sales</td>\n",
       "    </tr>\n",
       "  </tbody>\n",
       "</table>\n",
       "</div>"
      ],
      "text/plain": [
       "        book_id           library_id  lib_city lib_postal_code   price  pages  \\\n",
       "0  -xFj0vTLbRIC  zzw-222@5xc-knn-c5z  portland             nan  144.50    513   \n",
       "1  -xFj0vTLbRIC  zzw-223@5xc-jv7-ct9       nan           97204  144.50    513   \n",
       "2  -xFj0vTLbRIC  226-222@5xc-jxj-7yv  portland           97214  144.50    513   \n",
       "3  -xFj0vTLbRIC  222-222@5xc-jvf-skf  portland           97203  144.50    513   \n",
       "4  7T9-BAAAQBAJ  222-222@5xc-jv5-nt9  portland          #97217  406.99    774   \n",
       "\n",
       "                             cus_id      city   state   zipcode    birth_date  \\\n",
       "0  24032e18ff12062ba68766387df2ee99  portland     nan  -97266.0  1.120003e+09   \n",
       "1  529979f69bcda5cec760005da7978c11       nan  oregon   97232.0  1.195258e+09   \n",
       "2  b0ff7b25ecc4949aed61c0d0f914dfbd  portland  oregon   97220.0  4.322765e+09   \n",
       "3  71325ff160af04c414dd03b58774f23a  portland  oregon   97203.0  1.095984e+09   \n",
       "4  f8584c280388ca0798e1b635f7afc1b8  portland  oregon   97203.0  1.342656e+08   \n",
       "\n",
       "    gender        education          occupation  \n",
       "0  female   Graduate Degree     Admin & Support  \n",
       "1   female           Others  Business & Finance  \n",
       "2     male          College       Blue   Collar  \n",
       "3     male  Graduate Degree               Sales  \n",
       "4      nan      High School               Sales  "
      ]
     },
     "execution_count": 704,
     "metadata": {},
     "output_type": "execute_result"
    }
   ],
   "source": [
    "X_resampled.head()"
   ]
  },
  {
   "cell_type": "code",
   "execution_count": 705,
   "id": "artificial-phoenix",
   "metadata": {},
   "outputs": [
    {
     "name": "stdout",
     "output_type": "stream",
     "text": [
      "<class 'pandas.core.frame.DataFrame'>\n",
      "Int64Index: 1319 entries, 6 to 2637\n",
      "Data columns (total 15 columns):\n",
      " #   Column           Non-Null Count  Dtype  \n",
      "---  ------           --------------  -----  \n",
      " 0   book_id          1319 non-null   object \n",
      " 1   library_id       1319 non-null   object \n",
      " 2   lib_city         1319 non-null   object \n",
      " 3   lib_postal_code  1319 non-null   object \n",
      " 4   price            1319 non-null   float64\n",
      " 5   pages            1319 non-null   int64  \n",
      " 6   cus_id           1319 non-null   object \n",
      " 7   city             1319 non-null   object \n",
      " 8   state            1319 non-null   object \n",
      " 9   zipcode          1319 non-null   object \n",
      " 10  birth_date       1319 non-null   float64\n",
      " 11  gender           1319 non-null   object \n",
      " 12  education        1319 non-null   object \n",
      " 13  occupation       1319 non-null   object \n",
      " 14  late             1319 non-null   int64  \n",
      "dtypes: float64(2), int64(2), object(11)\n",
      "memory usage: 164.9+ KB\n",
      "None\n",
      "<class 'pandas.core.frame.DataFrame'>\n",
      "Int64Index: 1319 entries, 0 to 1508\n",
      "Data columns (total 15 columns):\n",
      " #   Column           Non-Null Count  Dtype  \n",
      "---  ------           --------------  -----  \n",
      " 0   book_id          1319 non-null   object \n",
      " 1   library_id       1319 non-null   object \n",
      " 2   lib_city         1319 non-null   object \n",
      " 3   lib_postal_code  1319 non-null   object \n",
      " 4   price            1319 non-null   float64\n",
      " 5   pages            1319 non-null   int64  \n",
      " 6   cus_id           1319 non-null   object \n",
      " 7   city             1319 non-null   object \n",
      " 8   state            1319 non-null   object \n",
      " 9   zipcode          1319 non-null   object \n",
      " 10  birth_date       1319 non-null   float64\n",
      " 11  gender           1319 non-null   object \n",
      " 12  education        1319 non-null   object \n",
      " 13  occupation       1319 non-null   object \n",
      " 14  late             1319 non-null   int64  \n",
      "dtypes: float64(2), int64(2), object(11)\n",
      "memory usage: 164.9+ KB\n",
      "None\n"
     ]
    }
   ],
   "source": [
    "X_resampled['late'] = y_resampled\n",
    "print(X_resampled[X_resampled.late == 1].info())\n",
    "print(X_resampled[X_resampled.late == 0].info())"
   ]
  },
  {
   "cell_type": "markdown",
   "id": "detailed-terminal",
   "metadata": {},
   "source": [
    "Now we have same number of records for either class."
   ]
  },
  {
   "cell_type": "markdown",
   "id": "dental-potato",
   "metadata": {},
   "source": [
    "# Modeling"
   ]
  },
  {
   "cell_type": "markdown",
   "id": "driven-spain",
   "metadata": {},
   "source": [
    "Let's experiment modeling with various classification algorithms and evaluate and compare their performances."
   ]
  },
  {
   "cell_type": "code",
   "execution_count": 706,
   "id": "actual-festival",
   "metadata": {},
   "outputs": [],
   "source": [
    "# Shuffling the data\n",
    "from sklearn.utils import shuffle\n",
    "X_resampled = shuffle(X_resampled)"
   ]
  },
  {
   "cell_type": "code",
   "execution_count": 708,
   "id": "fitted-johns",
   "metadata": {},
   "outputs": [],
   "source": [
    "# Defining training data and lables\n",
    "y_resampled = X_resampled['late']\n",
    "X_resampled.drop('late', axis=1, inplace=True)"
   ]
  },
  {
   "cell_type": "code",
   "execution_count": 716,
   "id": "detailed-theology",
   "metadata": {},
   "outputs": [],
   "source": [
    "# Spliting the data into train and test data\n",
    "from sklearn.model_selection import train_test_split\n",
    "X_train, X_test, y_train, y_test = train_test_split(X_resampled, y_resampled, test_size=0.30)"
   ]
  },
  {
   "cell_type": "code",
   "execution_count": 736,
   "id": "impressed-fitting",
   "metadata": {},
   "outputs": [],
   "source": [
    "# Creating the ML pipeline\n",
    "from sklearn.preprocessing import FunctionTransformer, OneHotEncoder\n",
    "from sklearn.pipeline import Pipeline\n",
    "from sklearn.compose import ColumnTransformer\n",
    "from sklearn.preprocessing import MaxAbsScaler\n",
    "from sklearn.model_selection import GridSearchCV\n",
    "from sklearn.linear_model import LogisticRegressionCV, RidgeClassifierCV, SGDClassifier\n",
    "from sklearn.svm import LinearSVC\n",
    "from sklearn.neighbors import KNeighborsClassifier\n",
    "from sklearn.ensemble import GradientBoostingClassifier, RandomForestClassifier\n",
    "\n",
    "categorical_columns = ['book_id','library_id','lib_city','lib_postal_code',\n",
    "                       'cus_id','city','state','zipcode','gender','education','occupation']\n",
    "numeric_columns = ['price','pages','birth_date']\n",
    "\n",
    "gs = GridSearchCV(\n",
    "    RandomForestClassifier(),\n",
    "    {\"min_samples_split\":[5, 7 ,10, 13]},\n",
    "    cv=10)\n",
    "\n",
    "features = ColumnTransformer([\n",
    "    ('categorical', OneHotEncoder(handle_unknown='ignore'), categorical_columns),\n",
    "    ('numeric', 'passthrough', numeric_columns),\n",
    "])\n",
    "\n",
    "estimator = Pipeline([\n",
    "    ('features', features),\n",
    "    ('scaling', MaxAbsScaler()),\n",
    "    ('estimator', gs)\n",
    "])"
   ]
  },
  {
   "cell_type": "code",
   "execution_count": 744,
   "id": "protective-metabolism",
   "metadata": {},
   "outputs": [],
   "source": [
    "# Function to fit and evaluate different models and return their accuracies\n",
    "def compare_estimators(estimators):\n",
    "    i = 0\n",
    "    for est in estimators:\n",
    "        estimator = Pipeline([\n",
    "            ('features', features),\n",
    "            ('scaling', MaxAbsScaler()),\n",
    "            ('estimator', est)\n",
    "        ])\n",
    "        \n",
    "        estimator.fit(X_train, y_train)\n",
    "        print(f\"Train Accuracy {est}:\", estimator.score(X_train, y_train),\"\\n\",\n",
    "                f\"Test Accuracy {est}:\", estimator.score(X_test, y_test), \"\\n\")\n",
    "        i +=1"
   ]
  },
  {
   "cell_type": "code",
   "execution_count": 745,
   "id": "developing-nutrition",
   "metadata": {},
   "outputs": [
    {
     "name": "stdout",
     "output_type": "stream",
     "text": [
      "Train Accuracy GridSearchCV(cv=10, estimator=RandomForestClassifier(),\n",
      "             param_grid={'min_samples_split': [5, 7, 10, 13]}): 0.9978331527627302 \n",
      " Test Accuracy GridSearchCV(cv=10, estimator=RandomForestClassifier(),\n",
      "             param_grid={'min_samples_split': [5, 7, 10, 13]}): 0.8446969696969697 \n",
      "\n",
      "Train Accuracy LogisticRegressionCV(max_iter=10000): 1.0 \n",
      " Test Accuracy LogisticRegressionCV(max_iter=10000): 0.98989898989899 \n",
      "\n",
      "Train Accuracy RidgeClassifierCV(alphas=array([ 0.1,  1. , 10. ])): 1.0 \n",
      " Test Accuracy RidgeClassifierCV(alphas=array([ 0.1,  1. , 10. ])): 0.9936868686868687 \n",
      "\n",
      "Train Accuracy SGDClassifier(): 1.0 \n",
      " Test Accuracy SGDClassifier(): 0.9393939393939394 \n",
      "\n",
      "Train Accuracy LinearSVC(): 1.0 \n",
      " Test Accuracy LinearSVC(): 0.9886363636363636 \n",
      "\n",
      "Train Accuracy KNeighborsClassifier(): 0.918201516793066 \n",
      " Test Accuracy KNeighborsClassifier(): 0.8611111111111112 \n",
      "\n",
      "Train Accuracy GradientBoostingClassifier(): 0.7990249187432286 \n",
      " Test Accuracy GradientBoostingClassifier(): 0.7348484848484849 \n",
      "\n"
     ]
    }
   ],
   "source": [
    "# Comparing models (fed with all features)\n",
    "compare_estimators([gs, LogisticRegressionCV(max_iter=10000), RidgeClassifierCV(), SGDClassifier(),\n",
    "                   LinearSVC(), KNeighborsClassifier(), GradientBoostingClassifier()])"
   ]
  },
  {
   "cell_type": "markdown",
   "id": "standing-repository",
   "metadata": {},
   "source": [
    " "
   ]
  },
  {
   "cell_type": "markdown",
   "id": "fleet-employer",
   "metadata": {},
   "source": [
    "Let's see how our models perform when we only use the five features that have most relevance to our target variable."
   ]
  },
  {
   "cell_type": "code",
   "execution_count": 752,
   "id": "departmental-modern",
   "metadata": {},
   "outputs": [],
   "source": [
    "# ML pipeline for select features only\n",
    "categorical_columns = ['book_id','cus_id']\n",
    "numeric_columns = ['price','pages','birth_date']\n",
    "\n",
    "gs = GridSearchCV(\n",
    "    RandomForestClassifier(),\n",
    "    {\"min_samples_split\":[5, 7 ,10, 13]},\n",
    "    cv=10)\n",
    "\n",
    "features = ColumnTransformer([\n",
    "     ('categorical', OneHotEncoder(handle_unknown='ignore'), categorical_columns),\n",
    "     ('numeric', 'passthrough', numeric_columns),\n",
    " ])"
   ]
  },
  {
   "cell_type": "code",
   "execution_count": 753,
   "id": "least-charlotte",
   "metadata": {},
   "outputs": [
    {
     "name": "stdout",
     "output_type": "stream",
     "text": [
      "Train Accuracy RandomForestClassifier(): 1.0 \n",
      " Test Accuracy RandomForestClassifier(): 0.8661616161616161 \n",
      "\n",
      "Train Accuracy LogisticRegressionCV(max_iter=10000): 1.0 \n",
      " Test Accuracy LogisticRegressionCV(max_iter=10000): 0.98989898989899 \n",
      "\n",
      "Train Accuracy RidgeClassifierCV(alphas=array([ 0.1,  1. , 10. ])): 1.0 \n",
      " Test Accuracy RidgeClassifierCV(alphas=array([ 0.1,  1. , 10. ])): 0.9936868686868687 \n",
      "\n",
      "Train Accuracy SGDClassifier(): 1.0 \n",
      " Test Accuracy SGDClassifier(): 0.9861111111111112 \n",
      "\n",
      "Train Accuracy LinearSVC(): 1.0 \n",
      " Test Accuracy LinearSVC(): 0.9886363636363636 \n",
      "\n",
      "Train Accuracy KNeighborsClassifier(): 0.918201516793066 \n",
      " Test Accuracy KNeighborsClassifier(): 0.8611111111111112 \n",
      "\n",
      "Train Accuracy GradientBoostingClassifier(): 0.8039003250270856 \n",
      " Test Accuracy GradientBoostingClassifier(): 0.7297979797979798 \n",
      "\n"
     ]
    }
   ],
   "source": [
    "compare_estimators([RandomForestClassifier(), LogisticRegressionCV(max_iter=10000), RidgeClassifierCV(), SGDClassifier(),\n",
    "                   LinearSVC(), KNeighborsClassifier(), GradientBoostingClassifier()])"
   ]
  },
  {
   "cell_type": "markdown",
   "id": "invisible-berkeley",
   "metadata": {},
   "source": [
    "As expected, the model performance did not change noticeably. Even in the case of SGDClassifier, the test data accuracy improved a little bit. This reaffirms that the variables that play a role in predicting target variable are price, pages, bood_id, cus_id, and customer birth_date. "
   ]
  },
  {
   "cell_type": "markdown",
   "id": "sudden-coordinator",
   "metadata": {},
   "source": [
    "The best performing model is RidgClassifierCV with about 99.4% accuracy on test data and worst performing model is GradientBoostingClassifier with 72% accuracy and that is likely because this model is better suited to large datasets. In conclusion, we will use LogisticRegressionCV with accuracy of about 99% to make prediction as it also easily generates probabilities for us."
   ]
  },
  {
   "cell_type": "markdown",
   "id": "brown-stationery",
   "metadata": {},
   "source": [
    "# Question 1: build a model to predict the likelihood of a late return of any book at checkout time? "
   ]
  },
  {
   "cell_type": "code",
   "execution_count": 775,
   "id": "welcome-spread",
   "metadata": {},
   "outputs": [],
   "source": [
    "# Final model\n",
    "estimator = Pipeline([\n",
    "    ('features', features),\n",
    "    ('scaling', MaxAbsScaler()),\n",
    "    ('estimator', LogisticRegressionCV())\n",
    "])\n",
    "\n",
    "estimator.fit(X_train, y_train)\n",
    "y_pred = estimator.predict(X_test)\n",
    "probs = estimator.predict_proba(X_test)"
   ]
  },
  {
   "cell_type": "code",
   "execution_count": 767,
   "id": "viral-cowboy",
   "metadata": {},
   "outputs": [
    {
     "data": {
      "text/plain": [
       "array([0, 0, 0, 1, 0, 1, 1, 0, 0, 1, 0, 0, 0, 1, 0, 0, 1, 1, 1, 0, 0, 1,\n",
       "       1, 1, 1, 0, 0, 1, 0, 1, 1, 1, 0, 0, 0, 0, 1, 0, 1, 1, 1, 0, 1, 1,\n",
       "       1, 1, 0, 0, 0, 1, 0, 0, 1, 1, 0, 1, 1, 1, 0, 1, 0, 0, 1, 0, 1, 1,\n",
       "       1, 1, 0, 0, 0, 1, 0, 1, 0, 0, 0, 0, 1, 0, 1, 0, 0, 0, 0, 1, 0, 0,\n",
       "       0, 0, 1, 0, 1, 0, 0, 1, 1, 0, 0, 1, 0, 0, 1, 0, 1, 0, 1, 1, 1, 1,\n",
       "       0, 0, 1, 1, 1, 1, 0, 0, 0, 0, 1, 0, 0, 1, 0, 0, 1, 1, 1, 0, 0, 0,\n",
       "       1, 1, 0, 0, 1, 1, 0, 1, 0, 1, 1, 0, 1, 0, 1, 0, 1, 0, 1, 0, 0, 0,\n",
       "       1, 1, 1, 0, 1, 1, 0, 0, 0, 1, 1, 1, 1, 1, 0, 1, 1, 0, 1, 0, 0, 0,\n",
       "       1, 1, 1, 1, 0, 0, 0, 0, 1, 0, 1, 1, 1, 0, 1, 1, 0, 0, 1, 1, 1, 1,\n",
       "       0, 0, 0, 0, 1, 1, 1, 1, 1, 0, 1, 0, 0, 0, 1, 0, 0, 0, 0, 1, 1, 0,\n",
       "       0, 0, 0, 1, 0, 1, 0, 1, 0, 1, 0, 1, 0, 0, 0, 0, 0, 1, 0, 1, 1, 1,\n",
       "       1, 0, 1, 0, 1, 0, 1, 1, 1, 1, 0, 1, 0, 1, 0, 0, 0, 0, 0, 1, 1, 0,\n",
       "       1, 1, 1, 0, 0, 1, 1, 1, 1, 0, 0, 0, 0, 0, 0, 1, 1, 0, 1, 0, 1, 0,\n",
       "       1, 1, 1, 1, 1, 1, 1, 0, 1, 0, 0, 0, 1, 1, 1, 0, 1, 0, 1, 0, 1, 1,\n",
       "       1, 1, 1, 0, 1, 0, 1, 1, 1, 1, 0, 1, 0, 1, 0, 1, 0, 1, 0, 0, 1, 1,\n",
       "       0, 1, 0, 0, 1, 0, 1, 0, 0, 0, 1, 1, 0, 1, 0, 1, 0, 1, 1, 0, 1, 1,\n",
       "       1, 0, 1, 0, 1, 1, 1, 1, 0, 0, 1, 0, 1, 0, 1, 0, 0, 1, 1, 1, 0, 0,\n",
       "       0, 0, 0, 1, 1, 0, 1, 0, 1, 1, 1, 1, 0, 0, 1, 0, 0, 0, 0, 1, 1, 0,\n",
       "       1, 1, 0, 1, 1, 0, 0, 0, 1, 1, 1, 0, 1, 1, 0, 1, 0, 1, 1, 0, 0, 0,\n",
       "       0, 1, 1, 1, 0, 0, 1, 1, 0, 1, 0, 1, 1, 0, 0, 1, 1, 1, 0, 0, 1, 1,\n",
       "       1, 1, 1, 1, 0, 0, 1, 0, 0, 1, 0, 1, 1, 0, 1, 0, 1, 1, 1, 1, 1, 0,\n",
       "       1, 0, 1, 0, 1, 1, 0, 0, 1, 0, 0, 0, 0, 1, 1, 1, 1, 1, 1, 0, 1, 1,\n",
       "       1, 1, 0, 0, 1, 0, 1, 0, 1, 0, 1, 0, 0, 1, 1, 1, 0, 0, 0, 0, 1, 1,\n",
       "       1, 0, 1, 0, 0, 0, 0, 1, 0, 0, 1, 0, 0, 1, 0, 0, 1, 1, 1, 1, 1, 1,\n",
       "       1, 0, 1, 0, 0, 0, 0, 0, 1, 0, 0, 0, 1, 0, 0, 0, 1, 0, 1, 0, 0, 0,\n",
       "       1, 0, 0, 0, 0, 1, 0, 0, 0, 1, 0, 1, 1, 0, 0, 0, 0, 1, 1, 1, 0, 1,\n",
       "       1, 0, 1, 0, 1, 1, 1, 1, 1, 0, 1, 1, 1, 0, 0, 1, 0, 0, 1, 0, 0, 0,\n",
       "       0, 0, 0, 0, 1, 0, 0, 0, 1, 1, 1, 1, 0, 1, 1, 0, 1, 0, 1, 0, 0, 0,\n",
       "       1, 0, 0, 0, 1, 0, 1, 0, 1, 1, 0, 1, 0, 0, 1, 1, 1, 1, 0, 0, 1, 1,\n",
       "       1, 1, 1, 1, 1, 0, 0, 0, 0, 1, 0, 1, 1, 1, 1, 0, 1, 1, 1, 0, 0, 0,\n",
       "       1, 0, 1, 0, 0, 0, 0, 0, 1, 0, 1, 1, 1, 1, 0, 0, 1, 1, 0, 1, 0, 0,\n",
       "       1, 0, 0, 0, 0, 0, 0, 0, 1, 0, 1, 1, 0, 1, 1, 0, 0, 0, 0, 0, 0, 1,\n",
       "       0, 0, 0, 1, 0, 0, 0, 0, 1, 0, 1, 1, 1, 1, 1, 1, 1, 0, 1, 1, 1, 0,\n",
       "       0, 1, 1, 0, 0, 1, 1, 0, 0, 0, 0, 0, 0, 1, 0, 1, 0, 0, 1, 0, 0, 0,\n",
       "       0, 0, 1, 1, 1, 0, 1, 1, 1, 0, 1, 0, 0, 1, 1, 0, 1, 0, 0, 0, 1, 0,\n",
       "       0, 0, 1, 0, 1, 1, 1, 0, 0, 1, 1, 0, 0, 0, 0, 1, 0, 1, 0, 1, 1, 1],\n",
       "      dtype=int64)"
      ]
     },
     "execution_count": 767,
     "metadata": {},
     "output_type": "execute_result"
    }
   ],
   "source": [
    "y_pred"
   ]
  },
  {
   "cell_type": "code",
   "execution_count": 776,
   "id": "civic-project",
   "metadata": {},
   "outputs": [],
   "source": [
    "# List of probability of being returned late for each book in test data\n",
    "probs = [round(x[1],2) for x in probs]"
   ]
  },
  {
   "cell_type": "markdown",
   "id": "popular-medication",
   "metadata": {},
   "source": [
    "# Question 2: Are there any factors you can find that are connected with late returns?"
   ]
  },
  {
   "cell_type": "markdown",
   "id": "previous-custom",
   "metadata": {},
   "source": [
    "As shown in the Feature Selectio section, the analysis and plot show that the most relevant features to our target variable are price, pages, and cus_id. That means factors that have a strong connection to late returns are price and pages of the book as well as the individual customer. Variables book_id, customer birth_date and zipcode also have some influence on the late returns."
   ]
  },
  {
   "cell_type": "markdown",
   "id": "fiscal-stationery",
   "metadata": {},
   "source": [
    "# Question 3: What would you recommend the library do to mitigate the risks you find? "
   ]
  },
  {
   "cell_type": "markdown",
   "id": "representative-pleasure",
   "metadata": {},
   "source": [
    "As mentioned in question 2, three most important factors that are connected to late return in order of importance are number of pages of the book, price of the book and the individual customer. As for the first one, the reason for late returns could simply be customers need more time to read the book as it has more pages. Therefore, for such books, one solution could be the library extends the return time so that the customer can manage to finish the book without worrying about being penalized for a late return (if there exist any).  Another solution that might help for all three factors is a small incentive for ontime returns. Somthing such as a discount coupon on an online purchase or something similar for customers who return ontime might go a long way."
   ]
  },
  {
   "cell_type": "markdown",
   "id": "australian-sympathy",
   "metadata": {},
   "source": [
    "Another suggestion to the library would be to invest in a new/better platform for administrative tasks such as data entry to their computer system. Had we had more accurate data including checkout and return dates, we could have a better analysis of the problem."
   ]
  },
  {
   "cell_type": "markdown",
   "id": "surprised-symposium",
   "metadata": {},
   "source": [
    "# Question 4: How would you present your findings to them to get buy-in? "
   ]
  },
  {
   "cell_type": "markdown",
   "id": "soviet-sense",
   "metadata": {},
   "source": [
    "With a simple analysis of the accumulative cost of late returns to the library, including book that were never returned, and benefit of investing in a new policy (incentivising ontime returns), the librarians will be able to see the value of the proposition in the long run."
   ]
  },
  {
   "cell_type": "code",
   "execution_count": null,
   "id": "rolled-questionnaire",
   "metadata": {},
   "outputs": [],
   "source": []
  }
 ],
 "metadata": {
  "kernelspec": {
   "display_name": "Python 3",
   "language": "python",
   "name": "python3"
  },
  "language_info": {
   "codemirror_mode": {
    "name": "ipython",
    "version": 3
   },
   "file_extension": ".py",
   "mimetype": "text/x-python",
   "name": "python",
   "nbconvert_exporter": "python",
   "pygments_lexer": "ipython3",
   "version": "3.8.5"
  }
 },
 "nbformat": 4,
 "nbformat_minor": 5
}
